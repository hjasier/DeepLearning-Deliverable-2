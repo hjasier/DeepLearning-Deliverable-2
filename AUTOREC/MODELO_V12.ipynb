{
 "cells": [
  {
   "cell_type": "code",
   "execution_count": 1,
   "metadata": {},
   "outputs": [],
   "source": [
    "import torch\n",
    "import torch.nn as nn\n",
    "from torch.utils.data import Dataset, DataLoader\n",
    "import torch.nn.functional as F\n",
    "import torch.optim as optim\n",
    "from tqdm import tqdm\n",
    "import numpy as np\n"
   ]
  },
  {
   "cell_type": "code",
   "execution_count": 2,
   "metadata": {},
   "outputs": [
    {
     "data": {
      "text/html": [
       "<div>\n",
       "<style scoped>\n",
       "    .dataframe tbody tr th:only-of-type {\n",
       "        vertical-align: middle;\n",
       "    }\n",
       "\n",
       "    .dataframe tbody tr th {\n",
       "        vertical-align: top;\n",
       "    }\n",
       "\n",
       "    .dataframe thead th {\n",
       "        text-align: right;\n",
       "    }\n",
       "</style>\n",
       "<table border=\"1\" class=\"dataframe\">\n",
       "  <thead>\n",
       "    <tr style=\"text-align: right;\">\n",
       "      <th></th>\n",
       "      <th>UserID</th>\n",
       "      <th>MovieID</th>\n",
       "      <th>Rating</th>\n",
       "      <th>Timestamp</th>\n",
       "    </tr>\n",
       "  </thead>\n",
       "  <tbody>\n",
       "    <tr>\n",
       "      <th>0</th>\n",
       "      <td>1</td>\n",
       "      <td>1193</td>\n",
       "      <td>5</td>\n",
       "      <td>978300760</td>\n",
       "    </tr>\n",
       "    <tr>\n",
       "      <th>1</th>\n",
       "      <td>1</td>\n",
       "      <td>661</td>\n",
       "      <td>3</td>\n",
       "      <td>978302109</td>\n",
       "    </tr>\n",
       "    <tr>\n",
       "      <th>2</th>\n",
       "      <td>1</td>\n",
       "      <td>914</td>\n",
       "      <td>3</td>\n",
       "      <td>978301968</td>\n",
       "    </tr>\n",
       "    <tr>\n",
       "      <th>3</th>\n",
       "      <td>1</td>\n",
       "      <td>3408</td>\n",
       "      <td>4</td>\n",
       "      <td>978300275</td>\n",
       "    </tr>\n",
       "    <tr>\n",
       "      <th>4</th>\n",
       "      <td>1</td>\n",
       "      <td>2355</td>\n",
       "      <td>5</td>\n",
       "      <td>978824291</td>\n",
       "    </tr>\n",
       "  </tbody>\n",
       "</table>\n",
       "</div>"
      ],
      "text/plain": [
       "   UserID  MovieID  Rating  Timestamp\n",
       "0       1     1193       5  978300760\n",
       "1       1      661       3  978302109\n",
       "2       1      914       3  978301968\n",
       "3       1     3408       4  978300275\n",
       "4       1     2355       5  978824291"
      ]
     },
     "execution_count": 2,
     "metadata": {},
     "output_type": "execute_result"
    }
   ],
   "source": [
    "# Librerías\n",
    "import pandas as pd\n",
    "import numpy as np\n",
    "\n",
    "\n",
    "movies_path = \"../ml-1m/movies.dat\"\n",
    "ratings_path = \"../ml-1m/ratings.dat\"\n",
    "users_path = \"../ml-1m/users.dat\"\n",
    "\n",
    "\n",
    "# Carga de los datos\n",
    "users = pd.read_csv(users_path, sep=\"::\", engine=\"python\", names=[\"UserID\", \"Gender\", \"Age\", \"Occupation\", \"Zip-code\"], encoding=\"latin-1\")\n",
    "movies = pd.read_csv(movies_path, sep=\"::\", engine=\"python\", names=[\"MovieID\", \"Title\", \"Genres\"], encoding=\"latin-1\")\n",
    "ratings = pd.read_csv(ratings_path, sep=\"::\", engine=\"python\", names=[\"UserID\", \"MovieID\", \"Rating\", \"Timestamp\"], encoding=\"latin-1\")\n",
    "\n",
    "# Mostrar primeras filas\n",
    "ratings.head()\n",
    "\n"
   ]
  },
  {
   "cell_type": "code",
   "execution_count": 3,
   "metadata": {},
   "outputs": [],
   "source": [
    "from sklearn.preprocessing import LabelEncoder\n",
    "\n",
    "user_enc = LabelEncoder()\n",
    "movie_enc = LabelEncoder()\n",
    "\n",
    "ratings['user'] = user_enc.fit_transform(ratings['UserID'])\n",
    "ratings['movie'] = movie_enc.fit_transform(ratings['MovieID'])\n",
    "\n",
    "num_users = ratings['user'].nunique()\n",
    "num_movies = ratings['movie'].nunique()\n"
   ]
  },
  {
   "cell_type": "code",
   "execution_count": 4,
   "metadata": {},
   "outputs": [],
   "source": [
    "# Filtrar películas que están en el dataset de ratings\n",
    "valid_movie_ids = set(ratings['MovieID'].unique())\n",
    "movies = movies[movies['MovieID'].isin(valid_movie_ids)].copy()\n",
    "\n",
    "# Ahora ya no habrá IDs desconocidos\n",
    "movies['MainGenre'] = movies['Genres'].apply(lambda x: x.split('|')[0])\n",
    "genre_enc = LabelEncoder()\n",
    "movies['genre_idx'] = genre_enc.fit_transform(movies['MainGenre'])\n",
    "\n",
    "# Finalmente puedes codificar los movie IDs correctamente\n",
    "movie_id_to_genre = dict(zip(movie_enc.transform(movies['MovieID']), movies['genre_idx']))\n",
    "num_genres = len(genre_enc.classes_)\n"
   ]
  },
  {
   "cell_type": "code",
   "execution_count": 5,
   "metadata": {},
   "outputs": [],
   "source": [
    "from collections import defaultdict\n",
    "\n",
    "max_seq_len = 10  # longitud fija de historial\n",
    "\n",
    "user_histories = defaultdict(list)\n",
    "sequence_data = []\n",
    "\n",
    "# Ordenamos por timestamp\n",
    "ratings = ratings.sort_values(by=['user', 'Timestamp'])\n",
    "\n",
    "# Generar secuencias\n",
    "for row in ratings.itertuples():\n",
    "    u, m = row.user, row.movie\n",
    "    hist = user_histories[u][-max_seq_len:]\n",
    "    if len(hist) >= 1:  # solo si hay al menos un ítem en historial\n",
    "        padded_hist = [0] * (max_seq_len - len(hist)) + hist  # pad left\n",
    "        sequence_data.append((padded_hist, m))\n",
    "    user_histories[u].append(m)\n"
   ]
  },
  {
   "cell_type": "code",
   "execution_count": 6,
   "metadata": {},
   "outputs": [],
   "source": [
    "import random \n",
    "\n",
    "class GRU4RecNegDatasetWithGenre(Dataset):\n",
    "    def __init__(self, sequence_data, num_items, movie_to_genre, num_negatives=20):\n",
    "        self.sequence_data = sequence_data\n",
    "        self.num_items = num_items\n",
    "        self.num_negatives = num_negatives\n",
    "        self.movie_to_genre = movie_to_genre\n",
    "\n",
    "    def __len__(self):\n",
    "        return len(self.sequence_data)\n",
    "\n",
    "    def __getitem__(self, idx):\n",
    "        seq, pos_item = self.sequence_data[idx]\n",
    "        neg_items = []\n",
    "        while len(neg_items) < self.num_negatives:\n",
    "            neg = random.randint(1, self.num_items - 1)\n",
    "            if neg != pos_item:\n",
    "                neg_items.append(neg)\n",
    "\n",
    "        # Obtener géneros\n",
    "        pos_genre = self.movie_to_genre.get(pos_item, 0)\n",
    "        neg_genres = [self.movie_to_genre.get(n, 0) for n in neg_items]\n",
    "\n",
    "        return (\n",
    "            torch.tensor(seq, dtype=torch.long),\n",
    "            torch.tensor(pos_item, dtype=torch.long),\n",
    "            torch.tensor(pos_genre, dtype=torch.long),\n",
    "            torch.tensor(neg_items, dtype=torch.long),\n",
    "            torch.tensor(neg_genres, dtype=torch.long)\n",
    "        )\n"
   ]
  },
  {
   "cell_type": "code",
   "execution_count": 7,
   "metadata": {},
   "outputs": [],
   "source": [
    "from torch.utils.data import random_split, DataLoader\n",
    "\n",
    "neg_dataset_with_genre = GRU4RecNegDatasetWithGenre(sequence_data, num_items=num_movies, movie_to_genre=movie_id_to_genre, num_negatives=20)\n",
    "\n",
    "train_size = int(0.8 * len(neg_dataset_with_genre))\n",
    "val_size = len(neg_dataset_with_genre) - train_size\n",
    "train_dataset, val_dataset = torch.utils.data.random_split(neg_dataset_with_genre, [train_size, val_size])\n",
    "\n",
    "train_loader = DataLoader(train_dataset, batch_size=256, shuffle=True)\n",
    "val_loader = DataLoader(val_dataset, batch_size=256)\n",
    "\n"
   ]
  },
  {
   "cell_type": "code",
   "execution_count": 8,
   "metadata": {},
   "outputs": [],
   "source": [
    "class GRU4RecRankingWithGenreModel(nn.Module):\n",
    "    def __init__(self, num_items, num_genres, embedding_dim=64, hidden_dim=128, dropout=0.3):\n",
    "        super().__init__()\n",
    "        self.movie_emb = nn.Embedding(num_items, embedding_dim, padding_idx=0)\n",
    "        self.genre_emb = nn.Embedding(num_genres, 8)  # más pequeño para no sobrecargar\n",
    "\n",
    "        input_dim = embedding_dim + 8\n",
    "        self.gru = nn.GRU(input_dim, hidden_dim, batch_first=True, dropout=dropout)\n",
    "        self.item_proj = nn.Embedding(num_items, hidden_dim)\n",
    "        self.genre_proj = nn.Embedding(num_genres, hidden_dim)\n",
    "\n",
    "    def forward(self, input_seq, input_genres, pos_items, pos_genres, neg_items, neg_genres):\n",
    "        # Embeddings de entrada\n",
    "        movie_e = self.movie_emb(input_seq)        # (B, L, D)\n",
    "        genre_e = self.genre_emb(input_genres)     # (B, L, 8)\n",
    "        seq_input = torch.cat([movie_e, genre_e], dim=2)  # (B, L, D+8)\n",
    "\n",
    "        # GRU\n",
    "        gru_out, _ = self.gru(seq_input)           # (B, L, H)\n",
    "        user_emb = gru_out[:, -1, :]               # (B, H)\n",
    "\n",
    "        # Positivo\n",
    "        pos_e = self.item_proj(pos_items) + self.genre_proj(pos_genres)  # (B, H)\n",
    "        pos_scores = torch.sum(user_emb * pos_e, dim=1)\n",
    "\n",
    "        # Negativos\n",
    "        neg_e = self.item_proj(neg_items) + self.genre_proj(neg_genres)  # (B, N, H)\n",
    "        user_exp = user_emb.unsqueeze(1).expand_as(neg_e)\n",
    "        neg_scores = torch.sum(user_exp * neg_e, dim=2)\n",
    "\n",
    "        return pos_scores, neg_scores\n"
   ]
  },
  {
   "cell_type": "code",
   "execution_count": 18,
   "metadata": {},
   "outputs": [],
   "source": [
    "class EarlyStopping:\n",
    "    def __init__(self, patience=3, delta=1e-4, path='best_model.pth'):\n",
    "        self.patience = patience\n",
    "        self.delta = delta\n",
    "        self.best_score = None\n",
    "        self.counter = 0\n",
    "        self.early_stop = False\n",
    "        self.path = path\n",
    "\n",
    "    def __call__(self, score, model):\n",
    "        if self.best_score is None or score > self.best_score + self.delta:\n",
    "            self.best_score = score\n",
    "            self.counter = 0\n",
    "            self.save_checkpoint(model)\n",
    "        else:\n",
    "            self.counter += 1\n",
    "            print(f\"🔁 No mejora... ({self.counter}/{self.patience})\")\n",
    "            if self.counter >= self.patience:\n",
    "                print(\"⏹️ Stop temprano activado\")\n",
    "                self.early_stop = True\n",
    "\n",
    "    def save_checkpoint(self, model):\n",
    "        torch.save(model.state_dict(), self.path)\n",
    "        print(f\"💾 Modelo guardado con mejor score ({self.best_score:.4f})\")\n"
   ]
  },
  {
   "cell_type": "code",
   "execution_count": 21,
   "metadata": {},
   "outputs": [],
   "source": [
    "def train_gru4rec_ranking_with_genre(model, train_loader, val_loader, epochs=10, lr=0.001, device='cpu', patience=3):\n",
    "    model.to(device)\n",
    "    optimizer = torch.optim.Adam(model.parameters(), lr=lr)\n",
    "    criterion = nn.BCEWithLogitsLoss()\n",
    "\n",
    "    early_stopping = EarlyStopping(patience=patience, path=\"best_model.pth\")\n",
    "\n",
    "    for epoch in range(epochs):\n",
    "        model.train()\n",
    "        total_loss = 0\n",
    "\n",
    "        for seq, pos_item, pos_genre, neg_items, neg_genres in train_loader:\n",
    "            seq = seq.to(device)\n",
    "            pos_item = pos_item.to(device)\n",
    "            pos_genre = pos_genre.to(device)\n",
    "            neg_items = neg_items.to(device)\n",
    "            neg_genres = neg_genres.to(device)\n",
    "\n",
    "            input_genres = torch.tensor(\n",
    "                [[movie_id_to_genre.get(i.item(), 0) for i in s] for s in seq],\n",
    "                dtype=torch.long\n",
    "            ).to(device)\n",
    "\n",
    "            optimizer.zero_grad()\n",
    "            pos_scores, neg_scores = model(seq, input_genres, pos_item, pos_genre, neg_items, neg_genres)\n",
    "\n",
    "            target_pos = torch.ones_like(pos_scores)\n",
    "            target_neg = torch.zeros_like(neg_scores)\n",
    "\n",
    "            loss_pos = criterion(pos_scores, target_pos)\n",
    "            loss_neg = criterion(neg_scores, target_neg)\n",
    "            loss = loss_pos + loss_neg.mean()\n",
    "\n",
    "            loss.backward()\n",
    "            optimizer.step()\n",
    "            total_loss += loss.item()\n",
    "\n",
    "        avg_loss = total_loss / len(train_loader)\n",
    "        print(f\"📉 Epoch {epoch+1}: Train Loss = {avg_loss:.4f}\")\n",
    "\n",
    "        # Validar y verificar early stop\n",
    "        recall = evaluate_gru4rec_recall_at_k(model, val_loader, k=10, device=device)\n",
    "        early_stopping(recall, model)\n",
    "\n",
    "        if early_stopping.early_stop:\n",
    "            break\n"
   ]
  },
  {
   "cell_type": "code",
   "execution_count": 11,
   "metadata": {},
   "outputs": [],
   "source": [
    "device = torch.device(\"cuda\" if torch.cuda.is_available() else \"cpu\")"
   ]
  },
  {
   "cell_type": "code",
   "execution_count": 31,
   "metadata": {},
   "outputs": [
    {
     "name": "stdout",
     "output_type": "stream",
     "text": [
      "📉 Epoch 1: Train Loss = 0.7530\n",
      "Recall@10: 0.0102\n",
      "💾 Modelo guardado con mejor score (0.0102)\n",
      "📉 Epoch 2: Train Loss = 0.5771\n",
      "Recall@10: 0.0105\n",
      "💾 Modelo guardado con mejor score (0.0105)\n",
      "📉 Epoch 3: Train Loss = 0.5366\n",
      "Recall@10: 0.0107\n",
      "💾 Modelo guardado con mejor score (0.0107)\n",
      "📉 Epoch 4: Train Loss = 0.5146\n",
      "Recall@10: 0.0111\n",
      "💾 Modelo guardado con mejor score (0.0111)\n",
      "📉 Epoch 5: Train Loss = 0.4999\n",
      "Recall@10: 0.0114\n",
      "💾 Modelo guardado con mejor score (0.0114)\n",
      "📉 Epoch 6: Train Loss = 0.4891\n",
      "Recall@10: 0.0114\n",
      "🔁 No mejora... (1/5)\n",
      "📉 Epoch 7: Train Loss = 0.4813\n",
      "Recall@10: 0.0121\n",
      "💾 Modelo guardado con mejor score (0.0121)\n",
      "📉 Epoch 8: Train Loss = 0.4752\n",
      "Recall@10: 0.0118\n",
      "🔁 No mejora... (1/5)\n",
      "📉 Epoch 9: Train Loss = 0.4706\n",
      "Recall@10: 0.0116\n",
      "🔁 No mejora... (2/5)\n",
      "📉 Epoch 10: Train Loss = 0.4799\n",
      "Recall@10: 0.0117\n",
      "🔁 No mejora... (3/5)\n",
      "📉 Epoch 11: Train Loss = 0.4629\n",
      "Recall@10: 0.0118\n",
      "🔁 No mejora... (4/5)\n",
      "📉 Epoch 12: Train Loss = 0.4622\n",
      "Recall@10: 0.0123\n",
      "💾 Modelo guardado con mejor score (0.0123)\n",
      "📉 Epoch 13: Train Loss = 0.4606\n",
      "Recall@10: 0.0123\n",
      "🔁 No mejora... (1/5)\n",
      "📉 Epoch 14: Train Loss = 0.4587\n",
      "Recall@10: 0.0115\n",
      "🔁 No mejora... (2/5)\n",
      "📉 Epoch 15: Train Loss = 0.4572\n",
      "Recall@10: 0.0115\n",
      "🔁 No mejora... (3/5)\n",
      "📉 Epoch 16: Train Loss = 0.4558\n",
      "Recall@10: 0.0121\n",
      "🔁 No mejora... (4/5)\n",
      "📉 Epoch 17: Train Loss = 0.4547\n",
      "Recall@10: 0.0122\n",
      "🔁 No mejora... (5/5)\n",
      "⏹️ Stop temprano activado\n"
     ]
    }
   ],
   "source": [
    "best_model = GRU4RecRankingWithGenreModel(\n",
    "    num_items=num_movies,\n",
    "    num_genres=num_genres,\n",
    "    embedding_dim=study.best_params[\"embedding_dim\"],\n",
    "    hidden_dim=study.best_params[\"hidden_dim\"],\n",
    "    dropout=study.best_params[\"dropout\"]\n",
    ").to(device)\n",
    "\n",
    "train_gru4rec_ranking_with_genre(\n",
    "    model=best_model,\n",
    "    train_loader=train_loader,\n",
    "    val_loader=val_loader,\n",
    "    epochs=50,         # ⬅️ más epochs ahora que sabemos los mejores params\n",
    "    lr=study.best_params[\"lr\"],\n",
    "    device=device,\n",
    "    patience=5         # ⬅️ early stopping\n",
    ")\n",
    "\n"
   ]
  },
  {
   "cell_type": "code",
   "execution_count": 32,
   "metadata": {},
   "outputs": [],
   "source": [
    "def evaluate_gru4rec_recall_at_k(model, val_loader, k=10, device='cpu'):\n",
    "    model.eval()\n",
    "    # model.to(device)\n",
    "    hits = 0\n",
    "    total = 0\n",
    "\n",
    "    with torch.no_grad():\n",
    "        for input_seq, pos_item, pos_genre, neg_items, neg_genres in val_loader:\n",
    "            input_seq = input_seq.to(device)\n",
    "            pos_item = pos_item.to(device)\n",
    "            pos_genre = pos_genre.to(device)\n",
    "            neg_items = neg_items.to(device)\n",
    "            neg_genres = neg_genres.to(device)\n",
    "\n",
    "            # 👇 CORREGIDO: construir input_genres correctamente\n",
    "            input_genres = torch.tensor(\n",
    "                [[movie_id_to_genre.get(i.item(), 0) for i in s] for s in input_seq],\n",
    "                dtype=torch.long\n",
    "            ).to(device)\n",
    "\n",
    "            emb = model.movie_emb(input_seq)\n",
    "            genre_emb = model.genre_emb(input_genres)\n",
    "            seq_input = torch.cat([emb, genre_emb], dim=2)\n",
    "\n",
    "            gru_out, _ = model.gru(seq_input)\n",
    "            user_emb = gru_out[:, -1, :]\n",
    "\n",
    "            all_items = torch.arange(1, model.item_proj.num_embeddings).to(device)\n",
    "            item_emb = model.item_proj(all_items)\n",
    "            scores = torch.matmul(user_emb, item_emb.T)\n",
    "            top_k = torch.topk(scores, k=k, dim=1).indices\n",
    "\n",
    "            for i in range(pos_item.size(0)):\n",
    "                if pos_item[i] in top_k[i]:\n",
    "                    hits += 1\n",
    "                total += 1\n",
    "\n",
    "\n",
    "    recall_at_k = hits / total\n",
    "    print(f\"Recall@{k}: {recall_at_k:.4f}\")\n",
    "    return recall_at_k\n"
   ]
  },
  {
   "cell_type": "code",
   "execution_count": 33,
   "metadata": {},
   "outputs": [
    {
     "name": "stdout",
     "output_type": "stream",
     "text": [
      "Recall@10: 0.0026\n"
     ]
    },
    {
     "data": {
      "text/plain": [
       "0.002590100284659565"
      ]
     },
     "execution_count": 33,
     "metadata": {},
     "output_type": "execute_result"
    }
   ],
   "source": [
    "evaluate_gru4rec_recall_at_k(\n",
    "    model=ranking_model_with_genre,\n",
    "    val_loader=val_loader,\n",
    "    k=10, \n",
    "    device=device\n",
    ")\n",
    "\n"
   ]
  },
  {
   "cell_type": "code",
   "execution_count": 24,
   "metadata": {},
   "outputs": [],
   "source": [
    "import optuna\n",
    "\n",
    "def objective(trial):\n",
    "    # Hiperparámetros sugeridos por Optuna\n",
    "    embedding_dim = trial.suggest_categorical(\"embedding_dim\", [32, 64, 128])\n",
    "    hidden_dim = trial.suggest_categorical(\"hidden_dim\", [64, 128, 256])\n",
    "    dropout = trial.suggest_float(\"dropout\", 0.1, 0.5)\n",
    "    lr = trial.suggest_float(\"lr\", 1e-4, 1e-2, log=True)\n",
    "    epochs = 1  # Puedes subirlo cuando todo esté ok\n",
    "\n",
    "    # Crear modelo con esos hiperparámetros\n",
    "    model = GRU4RecRankingWithGenreModel(\n",
    "        num_items=num_movies,\n",
    "        num_genres=num_genres,\n",
    "        embedding_dim=embedding_dim,\n",
    "        hidden_dim=hidden_dim,\n",
    "        dropout=dropout\n",
    "    ).to(device)\n",
    "\n",
    "    # Entrenar el modelo\n",
    "    train_gru4rec_ranking_with_genre(\n",
    "        model=model,\n",
    "        train_loader=train_loader,\n",
    "        epochs=epochs,\n",
    "        lr=lr,\n",
    "        device=device,\n",
    "        val_loader=val_loader,\n",
    "        patience=3\n",
    "    )\n",
    "\n",
    "    # Evaluar\n",
    "    recall = evaluate_gru4rec_recall_at_k(\n",
    "        model=model,\n",
    "        val_loader=val_loader,\n",
    "        k=10,\n",
    "        device=device\n",
    "    )\n",
    "\n",
    "    # Lo que Optuna quiere maximizar\n",
    "    return recall\n"
   ]
  },
  {
   "cell_type": "code",
   "execution_count": 26,
   "metadata": {},
   "outputs": [
    {
     "name": "stderr",
     "output_type": "stream",
     "text": [
      "[I 2025-04-06 15:37:25,493] A new study created in memory with name: no-name-0d0a0ebf-d8c9-479c-9755-bfa61e47bee2\n",
      "/home/hjasi/Documentos/DeepLearning/.venv/lib/python3.12/site-packages/torch/nn/modules/rnn.py:123: UserWarning: dropout option adds dropout after all but last recurrent layer, so non-zero dropout expects num_layers greater than 1, but got dropout=0.32596042423861676 and num_layers=1\n",
      "  warnings.warn(\n"
     ]
    },
    {
     "name": "stdout",
     "output_type": "stream",
     "text": [
      "📉 Epoch 1: Train Loss = 1.0377\n",
      "Recall@10: 0.0062\n",
      "💾 Modelo guardado con mejor score (0.0062)\n"
     ]
    },
    {
     "name": "stderr",
     "output_type": "stream",
     "text": [
      "[I 2025-04-06 15:40:56,174] Trial 0 finished with value: 0.006150859510948832 and parameters: {'embedding_dim': 128, 'hidden_dim': 128, 'dropout': 0.32596042423861676, 'lr': 0.0011605404188532965}. Best is trial 0 with value: 0.006150859510948832.\n"
     ]
    },
    {
     "name": "stdout",
     "output_type": "stream",
     "text": [
      "Recall@10: 0.0062\n"
     ]
    },
    {
     "name": "stderr",
     "output_type": "stream",
     "text": [
      "/home/hjasi/Documentos/DeepLearning/.venv/lib/python3.12/site-packages/torch/nn/modules/rnn.py:123: UserWarning: dropout option adds dropout after all but last recurrent layer, so non-zero dropout expects num_layers greater than 1, but got dropout=0.19208948008939122 and num_layers=1\n",
      "  warnings.warn(\n"
     ]
    },
    {
     "name": "stdout",
     "output_type": "stream",
     "text": [
      "📉 Epoch 1: Train Loss = 0.8756\n",
      "Recall@10: 0.0084\n",
      "💾 Modelo guardado con mejor score (0.0084)\n"
     ]
    },
    {
     "name": "stderr",
     "output_type": "stream",
     "text": [
      "[I 2025-04-06 15:44:20,218] Trial 1 finished with value: 0.008429141897261032 and parameters: {'embedding_dim': 128, 'hidden_dim': 64, 'dropout': 0.19208948008939122, 'lr': 0.0036999861709323648}. Best is trial 1 with value: 0.008429141897261032.\n"
     ]
    },
    {
     "name": "stdout",
     "output_type": "stream",
     "text": [
      "Recall@10: 0.0084\n"
     ]
    },
    {
     "name": "stderr",
     "output_type": "stream",
     "text": [
      "/home/hjasi/Documentos/DeepLearning/.venv/lib/python3.12/site-packages/torch/nn/modules/rnn.py:123: UserWarning: dropout option adds dropout after all but last recurrent layer, so non-zero dropout expects num_layers greater than 1, but got dropout=0.32022491052375046 and num_layers=1\n",
      "  warnings.warn(\n"
     ]
    },
    {
     "name": "stdout",
     "output_type": "stream",
     "text": [
      "📉 Epoch 1: Train Loss = 0.9894\n",
      "Recall@10: 0.0059\n",
      "💾 Modelo guardado con mejor score (0.0059)\n"
     ]
    },
    {
     "name": "stderr",
     "output_type": "stream",
     "text": [
      "[I 2025-04-06 15:47:43,356] Trial 2 finished with value: 0.005939628031423197 and parameters: {'embedding_dim': 64, 'hidden_dim': 256, 'dropout': 0.32022491052375046, 'lr': 0.0007938764223196749}. Best is trial 1 with value: 0.008429141897261032.\n"
     ]
    },
    {
     "name": "stdout",
     "output_type": "stream",
     "text": [
      "Recall@10: 0.0059\n"
     ]
    },
    {
     "name": "stderr",
     "output_type": "stream",
     "text": [
      "/home/hjasi/Documentos/DeepLearning/.venv/lib/python3.12/site-packages/torch/nn/modules/rnn.py:123: UserWarning: dropout option adds dropout after all but last recurrent layer, so non-zero dropout expects num_layers greater than 1, but got dropout=0.42850199404638034 and num_layers=1\n",
      "  warnings.warn(\n"
     ]
    },
    {
     "name": "stdout",
     "output_type": "stream",
     "text": [
      "📉 Epoch 1: Train Loss = 0.9474\n",
      "Recall@10: 0.0084\n",
      "💾 Modelo guardado con mejor score (0.0084)\n"
     ]
    },
    {
     "name": "stderr",
     "output_type": "stream",
     "text": [
      "[I 2025-04-06 15:51:11,804] Trial 3 finished with value: 0.008449259181025378 and parameters: {'embedding_dim': 128, 'hidden_dim': 128, 'dropout': 0.42850199404638034, 'lr': 0.002036668832522185}. Best is trial 3 with value: 0.008449259181025378.\n"
     ]
    },
    {
     "name": "stdout",
     "output_type": "stream",
     "text": [
      "Recall@10: 0.0084\n"
     ]
    },
    {
     "name": "stderr",
     "output_type": "stream",
     "text": [
      "/home/hjasi/Documentos/DeepLearning/.venv/lib/python3.12/site-packages/torch/nn/modules/rnn.py:123: UserWarning: dropout option adds dropout after all but last recurrent layer, so non-zero dropout expects num_layers greater than 1, but got dropout=0.1316943616420332 and num_layers=1\n",
      "  warnings.warn(\n"
     ]
    },
    {
     "name": "stdout",
     "output_type": "stream",
     "text": [
      "📉 Epoch 1: Train Loss = 0.8641\n",
      "Recall@10: 0.0073\n",
      "💾 Modelo guardado con mejor score (0.0073)\n"
     ]
    },
    {
     "name": "stderr",
     "output_type": "stream",
     "text": [
      "[I 2025-04-06 15:54:45,806] Trial 4 finished with value: 0.007317661969280908 and parameters: {'embedding_dim': 32, 'hidden_dim': 256, 'dropout': 0.1316943616420332, 'lr': 0.0018488954197426633}. Best is trial 3 with value: 0.008449259181025378.\n"
     ]
    },
    {
     "name": "stdout",
     "output_type": "stream",
     "text": [
      "Recall@10: 0.0073\n"
     ]
    },
    {
     "name": "stderr",
     "output_type": "stream",
     "text": [
      "/home/hjasi/Documentos/DeepLearning/.venv/lib/python3.12/site-packages/torch/nn/modules/rnn.py:123: UserWarning: dropout option adds dropout after all but last recurrent layer, so non-zero dropout expects num_layers greater than 1, but got dropout=0.3570381059256178 and num_layers=1\n",
      "  warnings.warn(\n"
     ]
    },
    {
     "name": "stdout",
     "output_type": "stream",
     "text": [
      "📉 Epoch 1: Train Loss = 0.7567\n",
      "Recall@10: 0.0102\n",
      "💾 Modelo guardado con mejor score (0.0102)\n"
     ]
    },
    {
     "name": "stderr",
     "output_type": "stream",
     "text": [
      "[I 2025-04-06 15:58:05,632] Trial 5 finished with value: 0.010154198980053713 and parameters: {'embedding_dim': 64, 'hidden_dim': 64, 'dropout': 0.3570381059256178, 'lr': 0.009241715028040097}. Best is trial 5 with value: 0.010154198980053713.\n"
     ]
    },
    {
     "name": "stdout",
     "output_type": "stream",
     "text": [
      "Recall@10: 0.0102\n"
     ]
    },
    {
     "name": "stderr",
     "output_type": "stream",
     "text": [
      "/home/hjasi/Documentos/DeepLearning/.venv/lib/python3.12/site-packages/torch/nn/modules/rnn.py:123: UserWarning: dropout option adds dropout after all but last recurrent layer, so non-zero dropout expects num_layers greater than 1, but got dropout=0.14379581144772569 and num_layers=1\n",
      "  warnings.warn(\n"
     ]
    },
    {
     "name": "stdout",
     "output_type": "stream",
     "text": [
      "📉 Epoch 1: Train Loss = 1.0048\n",
      "Recall@10: 0.0054\n",
      "💾 Modelo guardado con mejor score (0.0054)\n"
     ]
    },
    {
     "name": "stderr",
     "output_type": "stream",
     "text": [
      "[I 2025-04-06 16:01:26,373] Trial 6 finished with value: 0.005391432048844765 and parameters: {'embedding_dim': 32, 'hidden_dim': 64, 'dropout': 0.14379581144772569, 'lr': 0.0009275880514277356}. Best is trial 5 with value: 0.010154198980053713.\n"
     ]
    },
    {
     "name": "stdout",
     "output_type": "stream",
     "text": [
      "Recall@10: 0.0054\n"
     ]
    },
    {
     "name": "stderr",
     "output_type": "stream",
     "text": [
      "/home/hjasi/Documentos/DeepLearning/.venv/lib/python3.12/site-packages/torch/nn/modules/rnn.py:123: UserWarning: dropout option adds dropout after all but last recurrent layer, so non-zero dropout expects num_layers greater than 1, but got dropout=0.15138734217983074 and num_layers=1\n",
      "  warnings.warn(\n"
     ]
    },
    {
     "name": "stdout",
     "output_type": "stream",
     "text": [
      "📉 Epoch 1: Train Loss = 1.1333\n",
      "Recall@10: 0.0051\n",
      "💾 Modelo guardado con mejor score (0.0051)\n"
     ]
    },
    {
     "name": "stderr",
     "output_type": "stream",
     "text": [
      "[I 2025-04-06 16:04:54,406] Trial 7 finished with value: 0.005129907359908265 and parameters: {'embedding_dim': 64, 'hidden_dim': 128, 'dropout': 0.15138734217983074, 'lr': 0.0004590543368725316}. Best is trial 5 with value: 0.010154198980053713.\n"
     ]
    },
    {
     "name": "stdout",
     "output_type": "stream",
     "text": [
      "Recall@10: 0.0051\n"
     ]
    },
    {
     "name": "stderr",
     "output_type": "stream",
     "text": [
      "/home/hjasi/Documentos/DeepLearning/.venv/lib/python3.12/site-packages/torch/nn/modules/rnn.py:123: UserWarning: dropout option adds dropout after all but last recurrent layer, so non-zero dropout expects num_layers greater than 1, but got dropout=0.26343176684846525 and num_layers=1\n",
      "  warnings.warn(\n"
     ]
    },
    {
     "name": "stdout",
     "output_type": "stream",
     "text": [
      "📉 Epoch 1: Train Loss = 0.9227\n",
      "Recall@10: 0.0079\n",
      "💾 Modelo guardado con mejor score (0.0079)\n"
     ]
    },
    {
     "name": "stderr",
     "output_type": "stream",
     "text": [
      "[I 2025-04-06 16:08:23,326] Trial 8 finished with value: 0.007880945914682599 and parameters: {'embedding_dim': 128, 'hidden_dim': 64, 'dropout': 0.26343176684846525, 'lr': 0.002794683981208902}. Best is trial 5 with value: 0.010154198980053713.\n"
     ]
    },
    {
     "name": "stdout",
     "output_type": "stream",
     "text": [
      "Recall@10: 0.0079\n"
     ]
    },
    {
     "name": "stderr",
     "output_type": "stream",
     "text": [
      "/home/hjasi/Documentos/DeepLearning/.venv/lib/python3.12/site-packages/torch/nn/modules/rnn.py:123: UserWarning: dropout option adds dropout after all but last recurrent layer, so non-zero dropout expects num_layers greater than 1, but got dropout=0.1283731458058709 and num_layers=1\n",
      "  warnings.warn(\n"
     ]
    },
    {
     "name": "stdout",
     "output_type": "stream",
     "text": [
      "📉 Epoch 1: Train Loss = 1.1179\n",
      "Recall@10: 0.0048\n",
      "💾 Modelo guardado con mejor score (0.0048)\n"
     ]
    },
    {
     "name": "stderr",
     "output_type": "stream",
     "text": [
      "[I 2025-04-06 16:11:51,675] Trial 9 finished with value: 0.00483317742438416 and parameters: {'embedding_dim': 64, 'hidden_dim': 128, 'dropout': 0.1283731458058709, 'lr': 0.0004996200579291905}. Best is trial 5 with value: 0.010154198980053713.\n"
     ]
    },
    {
     "name": "stdout",
     "output_type": "stream",
     "text": [
      "Recall@10: 0.0048\n"
     ]
    },
    {
     "name": "stderr",
     "output_type": "stream",
     "text": [
      "/home/hjasi/Documentos/DeepLearning/.venv/lib/python3.12/site-packages/torch/nn/modules/rnn.py:123: UserWarning: dropout option adds dropout after all but last recurrent layer, so non-zero dropout expects num_layers greater than 1, but got dropout=0.4974267271836638 and num_layers=1\n",
      "  warnings.warn(\n"
     ]
    },
    {
     "name": "stdout",
     "output_type": "stream",
     "text": [
      "📉 Epoch 1: Train Loss = 0.7550\n",
      "Recall@10: 0.0089\n",
      "💾 Modelo guardado con mejor score (0.0089)\n"
     ]
    },
    {
     "name": "stderr",
     "output_type": "stream",
     "text": [
      "[I 2025-04-06 16:15:17,725] Trial 10 finished with value: 0.008947161954192945 and parameters: {'embedding_dim': 64, 'hidden_dim': 64, 'dropout': 0.4974267271836638, 'lr': 0.00893947053717234}. Best is trial 5 with value: 0.010154198980053713.\n"
     ]
    },
    {
     "name": "stdout",
     "output_type": "stream",
     "text": [
      "Recall@10: 0.0089\n"
     ]
    },
    {
     "name": "stderr",
     "output_type": "stream",
     "text": [
      "/home/hjasi/Documentos/DeepLearning/.venv/lib/python3.12/site-packages/torch/nn/modules/rnn.py:123: UserWarning: dropout option adds dropout after all but last recurrent layer, so non-zero dropout expects num_layers greater than 1, but got dropout=0.48797996154058615 and num_layers=1\n",
      "  warnings.warn(\n"
     ]
    },
    {
     "name": "stdout",
     "output_type": "stream",
     "text": [
      "📉 Epoch 1: Train Loss = 0.7512\n",
      "Recall@10: 0.0092\n",
      "💾 Modelo guardado con mejor score (0.0092)\n"
     ]
    },
    {
     "name": "stderr",
     "output_type": "stream",
     "text": [
      "[I 2025-04-06 16:18:43,043] Trial 11 finished with value: 0.009173481396541838 and parameters: {'embedding_dim': 64, 'hidden_dim': 64, 'dropout': 0.48797996154058615, 'lr': 0.009887394644973497}. Best is trial 5 with value: 0.010154198980053713.\n"
     ]
    },
    {
     "name": "stdout",
     "output_type": "stream",
     "text": [
      "Recall@10: 0.0092\n"
     ]
    },
    {
     "name": "stderr",
     "output_type": "stream",
     "text": [
      "/home/hjasi/Documentos/DeepLearning/.venv/lib/python3.12/site-packages/torch/nn/modules/rnn.py:123: UserWarning: dropout option adds dropout after all but last recurrent layer, so non-zero dropout expects num_layers greater than 1, but got dropout=0.4221329776418137 and num_layers=1\n",
      "  warnings.warn(\n"
     ]
    },
    {
     "name": "stdout",
     "output_type": "stream",
     "text": [
      "📉 Epoch 1: Train Loss = 1.5817\n",
      "Recall@10: 0.0047\n",
      "💾 Modelo guardado con mejor score (0.0047)\n"
     ]
    },
    {
     "name": "stderr",
     "output_type": "stream",
     "text": [
      "[I 2025-04-06 16:22:00,668] Trial 12 finished with value: 0.004737620326503516 and parameters: {'embedding_dim': 64, 'hidden_dim': 64, 'dropout': 0.4221329776418137, 'lr': 0.00015977688889184903}. Best is trial 5 with value: 0.010154198980053713.\n"
     ]
    },
    {
     "name": "stdout",
     "output_type": "stream",
     "text": [
      "Recall@10: 0.0047\n"
     ]
    },
    {
     "name": "stderr",
     "output_type": "stream",
     "text": [
      "/home/hjasi/Documentos/DeepLearning/.venv/lib/python3.12/site-packages/torch/nn/modules/rnn.py:123: UserWarning: dropout option adds dropout after all but last recurrent layer, so non-zero dropout expects num_layers greater than 1, but got dropout=0.3953442929429662 and num_layers=1\n",
      "  warnings.warn(\n"
     ]
    },
    {
     "name": "stdout",
     "output_type": "stream",
     "text": [
      "📉 Epoch 1: Train Loss = 0.7641\n",
      "Recall@10: 0.0097\n",
      "💾 Modelo guardado con mejor score (0.0097)\n"
     ]
    },
    {
     "name": "stderr",
     "output_type": "stream",
     "text": [
      "[I 2025-04-06 16:25:18,121] Trial 13 finished with value: 0.009651266885945059 and parameters: {'embedding_dim': 64, 'hidden_dim': 64, 'dropout': 0.3953442929429662, 'lr': 0.008479779184202476}. Best is trial 5 with value: 0.010154198980053713.\n"
     ]
    },
    {
     "name": "stdout",
     "output_type": "stream",
     "text": [
      "Recall@10: 0.0097\n"
     ]
    },
    {
     "name": "stderr",
     "output_type": "stream",
     "text": [
      "/home/hjasi/Documentos/DeepLearning/.venv/lib/python3.12/site-packages/torch/nn/modules/rnn.py:123: UserWarning: dropout option adds dropout after all but last recurrent layer, so non-zero dropout expects num_layers greater than 1, but got dropout=0.362922224199283 and num_layers=1\n",
      "  warnings.warn(\n"
     ]
    },
    {
     "name": "stdout",
     "output_type": "stream",
     "text": [
      "📉 Epoch 1: Train Loss = 0.7956\n",
      "Recall@10: 0.0082\n",
      "💾 Modelo guardado con mejor score (0.0082)\n"
     ]
    },
    {
     "name": "stderr",
     "output_type": "stream",
     "text": [
      "[I 2025-04-06 16:28:34,997] Trial 14 finished with value: 0.008177675850206706 and parameters: {'embedding_dim': 64, 'hidden_dim': 64, 'dropout': 0.362922224199283, 'lr': 0.005768107885499999}. Best is trial 5 with value: 0.010154198980053713.\n"
     ]
    },
    {
     "name": "stdout",
     "output_type": "stream",
     "text": [
      "Recall@10: 0.0082\n"
     ]
    },
    {
     "name": "stderr",
     "output_type": "stream",
     "text": [
      "/home/hjasi/Documentos/DeepLearning/.venv/lib/python3.12/site-packages/torch/nn/modules/rnn.py:123: UserWarning: dropout option adds dropout after all but last recurrent layer, so non-zero dropout expects num_layers greater than 1, but got dropout=0.2562018954138946 and num_layers=1\n",
      "  warnings.warn(\n"
     ]
    },
    {
     "name": "stdout",
     "output_type": "stream",
     "text": [
      "📉 Epoch 1: Train Loss = 0.8251\n",
      "Recall@10: 0.0082\n",
      "💾 Modelo guardado con mejor score (0.0082)\n"
     ]
    },
    {
     "name": "stderr",
     "output_type": "stream",
     "text": [
      "[I 2025-04-06 16:31:52,465] Trial 15 finished with value: 0.008172646529265618 and parameters: {'embedding_dim': 64, 'hidden_dim': 64, 'dropout': 0.2562018954138946, 'lr': 0.0045003687158265545}. Best is trial 5 with value: 0.010154198980053713.\n"
     ]
    },
    {
     "name": "stdout",
     "output_type": "stream",
     "text": [
      "Recall@10: 0.0082\n"
     ]
    },
    {
     "name": "stderr",
     "output_type": "stream",
     "text": [
      "/home/hjasi/Documentos/DeepLearning/.venv/lib/python3.12/site-packages/torch/nn/modules/rnn.py:123: UserWarning: dropout option adds dropout after all but last recurrent layer, so non-zero dropout expects num_layers greater than 1, but got dropout=0.3873519857206823 and num_layers=1\n",
      "  warnings.warn(\n"
     ]
    },
    {
     "name": "stdout",
     "output_type": "stream",
     "text": [
      "📉 Epoch 1: Train Loss = 1.3362\n",
      "Recall@10: 0.0045\n",
      "💾 Modelo guardado con mejor score (0.0045)\n"
     ]
    },
    {
     "name": "stderr",
     "output_type": "stream",
     "text": [
      "[I 2025-04-06 16:35:11,767] Trial 16 finished with value: 0.004466036995684842 and parameters: {'embedding_dim': 32, 'hidden_dim': 256, 'dropout': 0.3873519857206823, 'lr': 0.00010938093475019313}. Best is trial 5 with value: 0.010154198980053713.\n"
     ]
    },
    {
     "name": "stdout",
     "output_type": "stream",
     "text": [
      "Recall@10: 0.0045\n"
     ]
    },
    {
     "name": "stderr",
     "output_type": "stream",
     "text": [
      "/home/hjasi/Documentos/DeepLearning/.venv/lib/python3.12/site-packages/torch/nn/modules/rnn.py:123: UserWarning: dropout option adds dropout after all but last recurrent layer, so non-zero dropout expects num_layers greater than 1, but got dropout=0.4255683371143508 and num_layers=1\n",
      "  warnings.warn(\n"
     ]
    },
    {
     "name": "stdout",
     "output_type": "stream",
     "text": [
      "📉 Epoch 1: Train Loss = 0.7960\n",
      "Recall@10: 0.0073\n",
      "💾 Modelo guardado con mejor score (0.0073)\n"
     ]
    },
    {
     "name": "stderr",
     "output_type": "stream",
     "text": [
      "[I 2025-04-06 16:38:29,349] Trial 17 finished with value: 0.007252280797046783 and parameters: {'embedding_dim': 64, 'hidden_dim': 64, 'dropout': 0.4255683371143508, 'lr': 0.005748459457641728}. Best is trial 5 with value: 0.010154198980053713.\n"
     ]
    },
    {
     "name": "stdout",
     "output_type": "stream",
     "text": [
      "Recall@10: 0.0073\n"
     ]
    },
    {
     "name": "stderr",
     "output_type": "stream",
     "text": [
      "/home/hjasi/Documentos/DeepLearning/.venv/lib/python3.12/site-packages/torch/nn/modules/rnn.py:123: UserWarning: dropout option adds dropout after all but last recurrent layer, so non-zero dropout expects num_layers greater than 1, but got dropout=0.2699139721666116 and num_layers=1\n",
      "  warnings.warn(\n"
     ]
    },
    {
     "name": "stdout",
     "output_type": "stream",
     "text": [
      "📉 Epoch 1: Train Loss = 0.7729\n",
      "Recall@10: 0.0094\n",
      "💾 Modelo guardado con mejor score (0.0094)\n"
     ]
    },
    {
     "name": "stderr",
     "output_type": "stream",
     "text": [
      "[I 2025-04-06 16:41:46,491] Trial 18 finished with value: 0.009409859480772905 and parameters: {'embedding_dim': 64, 'hidden_dim': 64, 'dropout': 0.2699139721666116, 'lr': 0.007158372497354116}. Best is trial 5 with value: 0.010154198980053713.\n"
     ]
    },
    {
     "name": "stdout",
     "output_type": "stream",
     "text": [
      "Recall@10: 0.0094\n"
     ]
    },
    {
     "name": "stderr",
     "output_type": "stream",
     "text": [
      "/home/hjasi/Documentos/DeepLearning/.venv/lib/python3.12/site-packages/torch/nn/modules/rnn.py:123: UserWarning: dropout option adds dropout after all but last recurrent layer, so non-zero dropout expects num_layers greater than 1, but got dropout=0.36649041351017636 and num_layers=1\n",
      "  warnings.warn(\n"
     ]
    },
    {
     "name": "stdout",
     "output_type": "stream",
     "text": [
      "📉 Epoch 1: Train Loss = 0.8266\n",
      "Recall@10: 0.0085\n",
      "💾 Modelo guardado con mejor score (0.0085)\n"
     ]
    },
    {
     "name": "stderr",
     "output_type": "stream",
     "text": [
      "[I 2025-04-06 16:45:06,353] Trial 19 finished with value: 0.008549845599847108 and parameters: {'embedding_dim': 32, 'hidden_dim': 256, 'dropout': 0.36649041351017636, 'lr': 0.0028097091251974393}. Best is trial 5 with value: 0.010154198980053713.\n"
     ]
    },
    {
     "name": "stdout",
     "output_type": "stream",
     "text": [
      "Recall@10: 0.0085\n"
     ]
    }
   ],
   "source": [
    "study = optuna.create_study(direction=\"maximize\")\n",
    "study.optimize(objective, n_trials=20)  # puedes aumentar n_trials luego\n"
   ]
  },
  {
   "cell_type": "code",
   "execution_count": 27,
   "metadata": {},
   "outputs": [
    {
     "name": "stdout",
     "output_type": "stream",
     "text": [
      "✨ Mejores hiperparámetros encontrados:\n",
      "{'embedding_dim': 64, 'hidden_dim': 64, 'dropout': 0.3570381059256178, 'lr': 0.009241715028040097}\n",
      "📈 Mejor Recall@10: 0.010154198980053713\n"
     ]
    }
   ],
   "source": [
    "print(\"✨ Mejores hiperparámetros encontrados:\")\n",
    "print(study.best_params)\n",
    "\n",
    "print(\"📈 Mejor Recall@10:\", study.best_value)\n"
   ]
  },
  {
   "cell_type": "code",
   "execution_count": 28,
   "metadata": {},
   "outputs": [
    {
     "data": {
      "text/plain": [
       "['optuna_study.pkl']"
      ]
     },
     "execution_count": 28,
     "metadata": {},
     "output_type": "execute_result"
    }
   ],
   "source": [
    "import joblib\n",
    "joblib.dump(study, \"optuna_study.pkl\")\n"
   ]
  }
 ],
 "metadata": {
  "kernelspec": {
   "display_name": ".venv",
   "language": "python",
   "name": "python3"
  },
  "language_info": {
   "codemirror_mode": {
    "name": "ipython",
    "version": 3
   },
   "file_extension": ".py",
   "mimetype": "text/x-python",
   "name": "python",
   "nbconvert_exporter": "python",
   "pygments_lexer": "ipython3",
   "version": "3.12.3"
  }
 },
 "nbformat": 4,
 "nbformat_minor": 2
}
