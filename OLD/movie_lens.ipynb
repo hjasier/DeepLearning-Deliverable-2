{
 "cells": [
  {
   "cell_type": "code",
   "execution_count": 18,
   "metadata": {},
   "outputs": [],
   "source": [
    "import pandas as pd\n",
    "import torch\n",
    "from sklearn.model_selection import train_test_split\n",
    "from torch.utils.data import Dataset, DataLoader\n",
    "\n",
    "\n",
    "import torch.nn as nn\n",
    "import torch.optim as optim\n",
    "\n",
    "import numpy as np"
   ]
  },
  {
   "cell_type": "markdown",
   "metadata": {},
   "source": [
    "1. Load the MovieLens 100k dataset\n",
    "\n",
    "u.data     -- The full u data set, 100000 ratings by 943 users on 1682 items.\n",
    "              Each user has rated at least 20 movies.  Users and items are\n",
    "              numbered consecutively from 1.  The data is randomly\n",
    "              ordered. This is a tab separated list of \n",
    "\t         user id | item id | rating | timestamp. \n",
    "              The time stamps are unix seconds since 1/1/1970 UTC  "
   ]
  },
  {
   "cell_type": "code",
   "execution_count": 5,
   "metadata": {},
   "outputs": [],
   "source": [
    "columns = ['user_id', 'movie_id', 'rating', 'timestamp']\n",
    "df = pd.read_csv('ml-100k/u.data',sep='\\t', names=columns)\n",
    "\n",
    "# Drop timestamp as it's not needed\n",
    "df.drop(columns=['timestamp'], inplace=True)"
   ]
  },
  {
   "cell_type": "code",
   "execution_count": null,
   "metadata": {},
   "outputs": [],
   "source": [
    "# 2. Encode User IDs and Movie IDs to start from zero (for PyTorch embeddings)\n",
    "df['user_id'] = df['user_id'] - 1\n",
    "df['movie_id'] = df['movie_id'] - 1\n",
    "\n",
    "# 3. Split into train (80%), validation (10%), and test (10%) sets\n",
    "train_data, test_data = train_test_split(df, test_size=0.2, random_state=42)\n",
    "val_data, test_data = train_test_split(test_data, test_size=0.5, random_state=42)\n",
    "\n",
    "print(f\"Train size: {len(train_data)}, Validation size: {len(val_data)}, Test size: {len(test_data)}\")"
   ]
  },
  {
   "cell_type": "code",
   "execution_count": 7,
   "metadata": {},
   "outputs": [],
   "source": [
    "# 4. Convert to PyTorch tensors\n",
    "train_tensor = torch.tensor(train_data.values, dtype=torch.long)\n",
    "val_tensor = torch.tensor(val_data.values, dtype=torch.long)\n",
    "test_tensor = torch.tensor(test_data.values, dtype=torch.long)"
   ]
  },
  {
   "cell_type": "code",
   "execution_count": 8,
   "metadata": {},
   "outputs": [],
   "source": [
    "# 5. Create PyTorch Dataset class\n",
    "class MovieLensDataset(Dataset):\n",
    "    def __init__(self, data):\n",
    "        self.data = data\n",
    "    \n",
    "    def __len__(self):\n",
    "        return len(self.data)\n",
    "    \n",
    "    def __getitem__(self, index):\n",
    "        user_id, movie_id, rating = self.data[index]\n",
    "        return user_id, movie_id, rating.float()"
   ]
  },
  {
   "cell_type": "code",
   "execution_count": 9,
   "metadata": {},
   "outputs": [],
   "source": [
    "# 6. Create DataLoaders\n",
    "batch_size = 64\n",
    "train_loader = DataLoader(MovieLensDataset(train_tensor), batch_size=batch_size, shuffle=True)\n",
    "val_loader = DataLoader(MovieLensDataset(val_tensor), batch_size=batch_size, shuffle=False)\n",
    "test_loader = DataLoader(MovieLensDataset(test_tensor), batch_size=batch_size, shuffle=False)"
   ]
  },
  {
   "cell_type": "markdown",
   "metadata": {},
   "source": [
    "Step 2: Implementing Matrix Factorization Model\n",
    "\n",
    "We’ll use Embedding layers in PyTorch to learn representations for users and movies.\n",
    "Approach:\n",
    "\n",
    "    Each user and movie will have an embedding (vector representation).\n",
    "    The dot product of these embeddings will predict the rating.\n",
    "    We’ll train the model using Mean Squared Error (MSE) Loss."
   ]
  },
  {
   "cell_type": "code",
   "execution_count": 12,
   "metadata": {},
   "outputs": [],
   "source": [
    "\n",
    "# Define the Matrix Factorization Model\n",
    "class MatrixFactorization(nn.Module):\n",
    "    def __init__(self, num_users, num_movies, emb_size=50):\n",
    "        super(MatrixFactorization, self).__init__()\n",
    "        self.user_emb = nn.Embedding(num_users, emb_size)\n",
    "        self.movie_emb = nn.Embedding(num_movies, emb_size)\n",
    "        \n",
    "    def forward(self, user_id, movie_id):\n",
    "        user_vector = self.user_emb(user_id)  # (batch_size, emb_size)\n",
    "        movie_vector = self.movie_emb(movie_id)  # (batch_size, emb_size)\n",
    "        rating_pred = (user_vector * movie_vector).sum(dim=1)  # Dot product\n",
    "        return rating_pred\n"
   ]
  },
  {
   "cell_type": "code",
   "execution_count": 14,
   "metadata": {},
   "outputs": [
    {
     "name": "stdout",
     "output_type": "stream",
     "text": [
      "Number of users: 943, Number of movies: 1682\n"
     ]
    }
   ],
   "source": [
    "\n",
    "# Get the number of users and movies\n",
    "num_users = df['user_id'].nunique()\n",
    "num_movies = df['movie_id'].nunique()\n",
    "\n",
    "\n",
    "print(f\"Number of users: {num_users}, Number of movies: {num_movies}\")"
   ]
  },
  {
   "cell_type": "code",
   "execution_count": 15,
   "metadata": {},
   "outputs": [
    {
     "data": {
      "text/plain": [
       "MatrixFactorization(\n",
       "  (user_emb): Embedding(943, 50)\n",
       "  (movie_emb): Embedding(1682, 50)\n",
       ")"
      ]
     },
     "execution_count": 15,
     "metadata": {},
     "output_type": "execute_result"
    }
   ],
   "source": [
    "# Instantiate the model\n",
    "model = MatrixFactorization(num_users, num_movies, emb_size=50)\n",
    "\n",
    "\n",
    "# Loss function and optimizer\n",
    "criterion = nn.MSELoss() # Mean Squared Error\n",
    "optimizer = optim.Adam(model.parameters(), lr=0.01) # Learning rate\n",
    "\n",
    "# Move to GPU \n",
    "device = torch.device(\"cuda\" if torch.cuda.is_available() else \"cpu\")\n",
    "model.to(device)\n"
   ]
  },
  {
   "cell_type": "code",
   "execution_count": 16,
   "metadata": {},
   "outputs": [],
   "source": [
    "# Training function\n",
    "def train_model(model, train_loader, val_loader, epochs=10):\n",
    "    model.train()\n",
    "    for epoch in range(epochs):\n",
    "        total_loss = 0\n",
    "        for user_id, movie_id, rating in train_loader:\n",
    "            user_id, movie_id, rating = user_id.to(device), movie_id.to(device), rating.to(device)\n",
    "            \n",
    "            optimizer.zero_grad()\n",
    "            predictions = model(user_id, movie_id)\n",
    "            loss = criterion(predictions, rating)\n",
    "            loss.backward()\n",
    "            optimizer.step()\n",
    "            \n",
    "            total_loss += loss.item()\n",
    "        \n",
    "        # Validation loss\n",
    "        model.eval()\n",
    "        val_loss = 0\n",
    "        with torch.no_grad():\n",
    "            for user_id, movie_id, rating in val_loader:\n",
    "                user_id, movie_id, rating = user_id.to(device), movie_id.to(device), rating.to(device)\n",
    "                predictions = model(user_id, movie_id)\n",
    "                val_loss += criterion(predictions, rating).item()\n",
    "        \n",
    "        print(f\"Epoch {epoch+1}/{epochs}: Train Loss = {total_loss/len(train_loader):.4f}, Validation Loss = {val_loss/len(val_loader):.4f}\")\n"
   ]
  },
  {
   "cell_type": "code",
   "execution_count": 17,
   "metadata": {},
   "outputs": [
    {
     "name": "stdout",
     "output_type": "stream",
     "text": [
      "Epoch 1/10: Train Loss = 39.1095, Validation Loss = 20.4537\n",
      "Epoch 2/10: Train Loss = 6.2560, Validation Loss = 8.7115\n",
      "Epoch 3/10: Train Loss = 1.9911, Validation Loss = 6.0283\n",
      "Epoch 4/10: Train Loss = 1.3419, Validation Loss = 4.7765\n",
      "Epoch 5/10: Train Loss = 1.5432, Validation Loss = 3.9948\n",
      "Epoch 6/10: Train Loss = 1.8801, Validation Loss = 3.2595\n",
      "Epoch 7/10: Train Loss = 1.6230, Validation Loss = 2.6696\n",
      "Epoch 8/10: Train Loss = 1.2726, Validation Loss = 2.3639\n",
      "Epoch 9/10: Train Loss = 1.1334, Validation Loss = 2.1777\n",
      "Epoch 10/10: Train Loss = 1.0840, Validation Loss = 2.0379\n"
     ]
    }
   ],
   "source": [
    "# Train the model\n",
    "train_model(model, train_loader, val_loader, epochs=10)"
   ]
  },
  {
   "cell_type": "markdown",
   "metadata": {},
   "source": [
    "\n",
    "Step 3: Model Evaluation\n",
    "\n",
    "We’ll evaluate the model using the Root Mean Squared Error (RMSE) on the test set.\n",
    "Why RMSE?\n",
    "\n",
    "    RMSE measures the error between predicted and actual ratings.\n",
    "    A lower RMSE means better performance."
   ]
  },
  {
   "cell_type": "code",
   "execution_count": 19,
   "metadata": {},
   "outputs": [],
   "source": [
    "# Function to evaluate the model\n",
    "def evaluate_model(model, test_loader):\n",
    "    model.eval()  # Set to evaluation mode\n",
    "    total_loss = 0\n",
    "    all_preds = []\n",
    "    all_actuals = []\n",
    "\n",
    "    with torch.no_grad():\n",
    "        for user_id, movie_id, rating in test_loader:\n",
    "            user_id, movie_id, rating = user_id.to(device), movie_id.to(device), rating.to(device)\n",
    "            predictions = model(user_id, movie_id)\n",
    "            \n",
    "            all_preds.extend(predictions.cpu().numpy())\n",
    "            all_actuals.extend(rating.cpu().numpy())\n",
    "\n",
    "    # Compute RMSE\n",
    "    all_preds = np.array(all_preds)\n",
    "    all_actuals = np.array(all_actuals)\n",
    "    rmse = np.sqrt(np.mean((all_preds - all_actuals) ** 2))\n",
    "    return rmse"
   ]
  },
  {
   "cell_type": "code",
   "execution_count": 20,
   "metadata": {},
   "outputs": [
    {
     "name": "stdout",
     "output_type": "stream",
     "text": [
      "Test RMSE: 1.4166\n"
     ]
    }
   ],
   "source": [
    "# Compute RMSE\n",
    "test_rmse = evaluate_model(model, test_loader)\n",
    "print(f\"Test RMSE: {test_rmse:.4f}\")"
   ]
  },
  {
   "cell_type": "code",
   "execution_count": 21,
   "metadata": {},
   "outputs": [
    {
     "name": "stdout",
     "output_type": "stream",
     "text": [
      "Epoch 1/10: Train Loss = 29.2383, Validation Loss = 12.4745\n",
      "Epoch 2/10: Train Loss = 4.1276, Validation Loss = 6.7240\n",
      "Epoch 3/10: Train Loss = 1.6254, Validation Loss = 4.7539\n",
      "Epoch 4/10: Train Loss = 1.2292, Validation Loss = 3.9485\n",
      "Epoch 5/10: Train Loss = 1.5000, Validation Loss = 3.2844\n",
      "Epoch 6/10: Train Loss = 1.6830, Validation Loss = 2.5851\n",
      "Epoch 7/10: Train Loss = 1.3138, Validation Loss = 2.0844\n",
      "Epoch 8/10: Train Loss = 0.9974, Validation Loss = 1.9135\n",
      "Epoch 9/10: Train Loss = 0.9016, Validation Loss = 1.7621\n",
      "Epoch 10/10: Train Loss = 0.8755, Validation Loss = 1.6492\n",
      "Improved Test RMSE: 1.2934\n"
     ]
    }
   ],
   "source": [
    "class MFWithBias(nn.Module):\n",
    "    def __init__(self, num_users, num_movies, emb_size=50):\n",
    "        super(MFWithBias, self).__init__()\n",
    "        self.user_emb = nn.Embedding(num_users, emb_size)\n",
    "        self.movie_emb = nn.Embedding(num_movies, emb_size)\n",
    "\n",
    "        # Bias terms\n",
    "        self.user_bias = nn.Embedding(num_users, 1)\n",
    "        self.movie_bias = nn.Embedding(num_movies, 1)\n",
    "        \n",
    "        # Global bias (single scalar value)\n",
    "        self.global_bias = nn.Parameter(torch.zeros(1))\n",
    "\n",
    "    def forward(self, user_id, movie_id):\n",
    "        user_vector = self.user_emb(user_id)\n",
    "        movie_vector = self.movie_emb(movie_id)\n",
    "        \n",
    "        # Dot product of embeddings\n",
    "        rating_pred = (user_vector * movie_vector).sum(dim=1)\n",
    "        \n",
    "        # Add biases\n",
    "        rating_pred += self.user_bias(user_id).squeeze() + self.movie_bias(movie_id).squeeze() + self.global_bias\n",
    "        \n",
    "        return rating_pred\n",
    "\n",
    "# Re-train with new model\n",
    "model = MFWithBias(num_users, num_movies, emb_size=50).to(device)\n",
    "optimizer = optim.Adam(model.parameters(), lr=0.01)\n",
    "train_model(model, train_loader, val_loader, epochs=10)\n",
    "\n",
    "# Evaluate new model\n",
    "test_rmse = evaluate_model(model, test_loader)\n",
    "print(f\"Improved Test RMSE: {test_rmse:.4f}\")\n"
   ]
  }
 ],
 "metadata": {
  "kernelspec": {
   "display_name": ".venv",
   "language": "python",
   "name": "python3"
  },
  "language_info": {
   "codemirror_mode": {
    "name": "ipython",
    "version": 3
   },
   "file_extension": ".py",
   "mimetype": "text/x-python",
   "name": "python",
   "nbconvert_exporter": "python",
   "pygments_lexer": "ipython3",
   "version": "3.12.3"
  }
 },
 "nbformat": 4,
 "nbformat_minor": 2
}
