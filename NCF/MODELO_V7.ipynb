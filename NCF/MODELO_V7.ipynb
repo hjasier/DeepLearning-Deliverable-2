{
 "cells": [
  {
   "cell_type": "code",
   "execution_count": 1,
   "metadata": {},
   "outputs": [],
   "source": [
    "import torch\n",
    "import torch.nn as nn\n",
    "from torch.utils.data import Dataset, DataLoader\n",
    "import torch.nn.functional as F\n",
    "import torch.optim as optim\n",
    "from tqdm import tqdm\n",
    "import numpy as np\n"
   ]
  },
  {
   "cell_type": "code",
   "execution_count": 2,
   "metadata": {},
   "outputs": [
    {
     "data": {
      "text/html": [
       "<div>\n",
       "<style scoped>\n",
       "    .dataframe tbody tr th:only-of-type {\n",
       "        vertical-align: middle;\n",
       "    }\n",
       "\n",
       "    .dataframe tbody tr th {\n",
       "        vertical-align: top;\n",
       "    }\n",
       "\n",
       "    .dataframe thead th {\n",
       "        text-align: right;\n",
       "    }\n",
       "</style>\n",
       "<table border=\"1\" class=\"dataframe\">\n",
       "  <thead>\n",
       "    <tr style=\"text-align: right;\">\n",
       "      <th></th>\n",
       "      <th>UserID</th>\n",
       "      <th>MovieID</th>\n",
       "      <th>Rating</th>\n",
       "      <th>Timestamp</th>\n",
       "    </tr>\n",
       "  </thead>\n",
       "  <tbody>\n",
       "    <tr>\n",
       "      <th>0</th>\n",
       "      <td>1</td>\n",
       "      <td>1193</td>\n",
       "      <td>5</td>\n",
       "      <td>978300760</td>\n",
       "    </tr>\n",
       "    <tr>\n",
       "      <th>1</th>\n",
       "      <td>1</td>\n",
       "      <td>661</td>\n",
       "      <td>3</td>\n",
       "      <td>978302109</td>\n",
       "    </tr>\n",
       "    <tr>\n",
       "      <th>2</th>\n",
       "      <td>1</td>\n",
       "      <td>914</td>\n",
       "      <td>3</td>\n",
       "      <td>978301968</td>\n",
       "    </tr>\n",
       "    <tr>\n",
       "      <th>3</th>\n",
       "      <td>1</td>\n",
       "      <td>3408</td>\n",
       "      <td>4</td>\n",
       "      <td>978300275</td>\n",
       "    </tr>\n",
       "    <tr>\n",
       "      <th>4</th>\n",
       "      <td>1</td>\n",
       "      <td>2355</td>\n",
       "      <td>5</td>\n",
       "      <td>978824291</td>\n",
       "    </tr>\n",
       "  </tbody>\n",
       "</table>\n",
       "</div>"
      ],
      "text/plain": [
       "   UserID  MovieID  Rating  Timestamp\n",
       "0       1     1193       5  978300760\n",
       "1       1      661       3  978302109\n",
       "2       1      914       3  978301968\n",
       "3       1     3408       4  978300275\n",
       "4       1     2355       5  978824291"
      ]
     },
     "execution_count": 2,
     "metadata": {},
     "output_type": "execute_result"
    }
   ],
   "source": [
    "# Librerías\n",
    "import pandas as pd\n",
    "import numpy as np\n",
    "\n",
    "\n",
    "movies_path = \"ml-1m/movies.dat\"\n",
    "ratings_path = \"ml-1m/ratings.dat\"\n",
    "users_path = \"ml-1m/users.dat\"\n",
    "\n",
    "\n",
    "# Carga de los datos\n",
    "users = pd.read_csv(users_path, sep=\"::\", engine=\"python\", names=[\"UserID\", \"Gender\", \"Age\", \"Occupation\", \"Zip-code\"], encoding=\"latin-1\")\n",
    "movies = pd.read_csv(movies_path, sep=\"::\", engine=\"python\", names=[\"MovieID\", \"Title\", \"Genres\"], encoding=\"latin-1\")\n",
    "ratings = pd.read_csv(ratings_path, sep=\"::\", engine=\"python\", names=[\"UserID\", \"MovieID\", \"Rating\", \"Timestamp\"], encoding=\"latin-1\")\n",
    "\n",
    "# Mostrar primeras filas\n",
    "ratings.head()\n",
    "\n"
   ]
  },
  {
   "cell_type": "code",
   "execution_count": 3,
   "metadata": {},
   "outputs": [
    {
     "data": {
      "text/plain": [
       "(6040, 3706)"
      ]
     },
     "execution_count": 3,
     "metadata": {},
     "output_type": "execute_result"
    }
   ],
   "source": [
    "from sklearn.preprocessing import LabelEncoder\n",
    "\n",
    "user_encoder = LabelEncoder()\n",
    "movie_encoder = LabelEncoder()\n",
    "\n",
    "ratings['user'] = user_encoder.fit_transform(ratings['UserID'])\n",
    "ratings['movie'] = movie_encoder.fit_transform(ratings['MovieID'])\n",
    "\n",
    "# Guardamos número de usuarios y películas únicos\n",
    "num_users = ratings['user'].nunique()\n",
    "num_movies = ratings['movie'].nunique()\n",
    "\n",
    "num_users, num_movies\n"
   ]
  },
  {
   "cell_type": "code",
   "execution_count": 4,
   "metadata": {},
   "outputs": [],
   "source": [
    "# Obtener lista única de géneros\n",
    "movies['Genres'] = movies['Genres'].str.split('|')\n",
    "all_genres = sorted(set(g for sublist in movies['Genres'] for g in sublist))\n",
    "genre_to_idx = {genre: idx for idx, genre in enumerate(all_genres)}\n",
    "\n",
    "# Crear codificación multi-hot para cada película\n",
    "def encode_genres(genres_list):\n",
    "    multi_hot = np.zeros(len(genre_to_idx), dtype=np.float32)\n",
    "    for genre in genres_list:\n",
    "        if genre in genre_to_idx:\n",
    "            multi_hot[genre_to_idx[genre]] = 1.0\n",
    "    return multi_hot\n",
    "\n",
    "movies['genre_vector'] = movies['Genres'].apply(encode_genres)\n"
   ]
  },
  {
   "cell_type": "code",
   "execution_count": 5,
   "metadata": {},
   "outputs": [
    {
     "name": "stdout",
     "output_type": "stream",
     "text": [
      "Géneros: ['F' 'M']\n",
      "Edades: [ 1 18 25 35 45 50 56]\n",
      "Ocupaciones: [ 0  1  2  3  4  5  6  7  8  9 10 11 12 13 14 15 16 17 18 19 20]\n"
     ]
    },
    {
     "data": {
      "text/html": [
       "<div>\n",
       "<style scoped>\n",
       "    .dataframe tbody tr th:only-of-type {\n",
       "        vertical-align: middle;\n",
       "    }\n",
       "\n",
       "    .dataframe tbody tr th {\n",
       "        vertical-align: top;\n",
       "    }\n",
       "\n",
       "    .dataframe thead th {\n",
       "        text-align: right;\n",
       "    }\n",
       "</style>\n",
       "<table border=\"1\" class=\"dataframe\">\n",
       "  <thead>\n",
       "    <tr style=\"text-align: right;\">\n",
       "      <th></th>\n",
       "      <th>user</th>\n",
       "      <th>movie</th>\n",
       "      <th>Rating</th>\n",
       "      <th>gender</th>\n",
       "      <th>age</th>\n",
       "      <th>occupation</th>\n",
       "    </tr>\n",
       "  </thead>\n",
       "  <tbody>\n",
       "    <tr>\n",
       "      <th>0</th>\n",
       "      <td>0</td>\n",
       "      <td>1104</td>\n",
       "      <td>5</td>\n",
       "      <td>0</td>\n",
       "      <td>0</td>\n",
       "      <td>10</td>\n",
       "    </tr>\n",
       "    <tr>\n",
       "      <th>1</th>\n",
       "      <td>0</td>\n",
       "      <td>639</td>\n",
       "      <td>3</td>\n",
       "      <td>0</td>\n",
       "      <td>0</td>\n",
       "      <td>10</td>\n",
       "    </tr>\n",
       "    <tr>\n",
       "      <th>2</th>\n",
       "      <td>0</td>\n",
       "      <td>853</td>\n",
       "      <td>3</td>\n",
       "      <td>0</td>\n",
       "      <td>0</td>\n",
       "      <td>10</td>\n",
       "    </tr>\n",
       "    <tr>\n",
       "      <th>3</th>\n",
       "      <td>0</td>\n",
       "      <td>3177</td>\n",
       "      <td>4</td>\n",
       "      <td>0</td>\n",
       "      <td>0</td>\n",
       "      <td>10</td>\n",
       "    </tr>\n",
       "    <tr>\n",
       "      <th>4</th>\n",
       "      <td>0</td>\n",
       "      <td>2162</td>\n",
       "      <td>5</td>\n",
       "      <td>0</td>\n",
       "      <td>0</td>\n",
       "      <td>10</td>\n",
       "    </tr>\n",
       "  </tbody>\n",
       "</table>\n",
       "</div>"
      ],
      "text/plain": [
       "   user  movie  Rating  gender  age  occupation\n",
       "0     0   1104       5       0    0          10\n",
       "1     0    639       3       0    0          10\n",
       "2     0    853       3       0    0          10\n",
       "3     0   3177       4       0    0          10\n",
       "4     0   2162       5       0    0          10"
      ]
     },
     "execution_count": 5,
     "metadata": {},
     "output_type": "execute_result"
    }
   ],
   "source": [
    "from sklearn.preprocessing import LabelEncoder\n",
    "\n",
    "# Fusionar ratings con info del usuario\n",
    "ratings_full = ratings.merge(users, on=\"UserID\")\n",
    "\n",
    "# Codificar gender (F/M → 0/1 por ejemplo)\n",
    "gender_encoder = LabelEncoder()\n",
    "ratings_full['gender'] = gender_encoder.fit_transform(ratings_full['Gender'])\n",
    "\n",
    "# Codificar age y occupation como categorías\n",
    "age_encoder = LabelEncoder()\n",
    "occ_encoder = LabelEncoder()\n",
    "\n",
    "ratings_full['age'] = age_encoder.fit_transform(ratings_full['Age'])\n",
    "ratings_full['occupation'] = occ_encoder.fit_transform(ratings_full['Occupation'])\n",
    "\n",
    "# Mostrar las clases para documentar\n",
    "print(\"Géneros:\", gender_encoder.classes_)\n",
    "print(\"Edades:\", age_encoder.classes_)\n",
    "print(\"Ocupaciones:\", occ_encoder.classes_)\n",
    "\n",
    "ratings_full[['user', 'movie', 'Rating', 'gender', 'age', 'occupation']].head()\n"
   ]
  },
  {
   "cell_type": "code",
   "execution_count": 6,
   "metadata": {},
   "outputs": [
    {
     "data": {
      "text/html": [
       "<div>\n",
       "<style scoped>\n",
       "    .dataframe tbody tr th:only-of-type {\n",
       "        vertical-align: middle;\n",
       "    }\n",
       "\n",
       "    .dataframe tbody tr th {\n",
       "        vertical-align: top;\n",
       "    }\n",
       "\n",
       "    .dataframe thead th {\n",
       "        text-align: right;\n",
       "    }\n",
       "</style>\n",
       "<table border=\"1\" class=\"dataframe\">\n",
       "  <thead>\n",
       "    <tr style=\"text-align: right;\">\n",
       "      <th></th>\n",
       "      <th>UserID</th>\n",
       "      <th>MovieID</th>\n",
       "      <th>Rating</th>\n",
       "      <th>Timestamp</th>\n",
       "      <th>user</th>\n",
       "      <th>movie</th>\n",
       "      <th>Gender</th>\n",
       "      <th>Age</th>\n",
       "      <th>Occupation</th>\n",
       "      <th>Zip-code</th>\n",
       "      <th>gender</th>\n",
       "      <th>age</th>\n",
       "      <th>occupation</th>\n",
       "      <th>genre_vector</th>\n",
       "    </tr>\n",
       "  </thead>\n",
       "  <tbody>\n",
       "    <tr>\n",
       "      <th>0</th>\n",
       "      <td>1</td>\n",
       "      <td>1193</td>\n",
       "      <td>5</td>\n",
       "      <td>978300760</td>\n",
       "      <td>0</td>\n",
       "      <td>1104</td>\n",
       "      <td>F</td>\n",
       "      <td>1</td>\n",
       "      <td>10</td>\n",
       "      <td>48067</td>\n",
       "      <td>0</td>\n",
       "      <td>0</td>\n",
       "      <td>10</td>\n",
       "      <td>[0.0, 0.0, 0.0, 0.0, 0.0, 0.0, 0.0, 1.0, 0.0, ...</td>\n",
       "    </tr>\n",
       "    <tr>\n",
       "      <th>1</th>\n",
       "      <td>1</td>\n",
       "      <td>661</td>\n",
       "      <td>3</td>\n",
       "      <td>978302109</td>\n",
       "      <td>0</td>\n",
       "      <td>639</td>\n",
       "      <td>F</td>\n",
       "      <td>1</td>\n",
       "      <td>10</td>\n",
       "      <td>48067</td>\n",
       "      <td>0</td>\n",
       "      <td>0</td>\n",
       "      <td>10</td>\n",
       "      <td>[0.0, 0.0, 1.0, 1.0, 0.0, 0.0, 0.0, 0.0, 0.0, ...</td>\n",
       "    </tr>\n",
       "    <tr>\n",
       "      <th>2</th>\n",
       "      <td>1</td>\n",
       "      <td>914</td>\n",
       "      <td>3</td>\n",
       "      <td>978301968</td>\n",
       "      <td>0</td>\n",
       "      <td>853</td>\n",
       "      <td>F</td>\n",
       "      <td>1</td>\n",
       "      <td>10</td>\n",
       "      <td>48067</td>\n",
       "      <td>0</td>\n",
       "      <td>0</td>\n",
       "      <td>10</td>\n",
       "      <td>[0.0, 0.0, 0.0, 0.0, 0.0, 0.0, 0.0, 0.0, 0.0, ...</td>\n",
       "    </tr>\n",
       "    <tr>\n",
       "      <th>3</th>\n",
       "      <td>1</td>\n",
       "      <td>3408</td>\n",
       "      <td>4</td>\n",
       "      <td>978300275</td>\n",
       "      <td>0</td>\n",
       "      <td>3177</td>\n",
       "      <td>F</td>\n",
       "      <td>1</td>\n",
       "      <td>10</td>\n",
       "      <td>48067</td>\n",
       "      <td>0</td>\n",
       "      <td>0</td>\n",
       "      <td>10</td>\n",
       "      <td>[0.0, 0.0, 0.0, 0.0, 0.0, 0.0, 0.0, 1.0, 0.0, ...</td>\n",
       "    </tr>\n",
       "    <tr>\n",
       "      <th>4</th>\n",
       "      <td>1</td>\n",
       "      <td>2355</td>\n",
       "      <td>5</td>\n",
       "      <td>978824291</td>\n",
       "      <td>0</td>\n",
       "      <td>2162</td>\n",
       "      <td>F</td>\n",
       "      <td>1</td>\n",
       "      <td>10</td>\n",
       "      <td>48067</td>\n",
       "      <td>0</td>\n",
       "      <td>0</td>\n",
       "      <td>10</td>\n",
       "      <td>[0.0, 0.0, 1.0, 1.0, 1.0, 0.0, 0.0, 0.0, 0.0, ...</td>\n",
       "    </tr>\n",
       "  </tbody>\n",
       "</table>\n",
       "</div>"
      ],
      "text/plain": [
       "   UserID  MovieID  Rating  Timestamp  user  movie Gender  Age  Occupation  \\\n",
       "0       1     1193       5  978300760     0   1104      F    1          10   \n",
       "1       1      661       3  978302109     0    639      F    1          10   \n",
       "2       1      914       3  978301968     0    853      F    1          10   \n",
       "3       1     3408       4  978300275     0   3177      F    1          10   \n",
       "4       1     2355       5  978824291     0   2162      F    1          10   \n",
       "\n",
       "  Zip-code  gender  age  occupation  \\\n",
       "0    48067       0    0          10   \n",
       "1    48067       0    0          10   \n",
       "2    48067       0    0          10   \n",
       "3    48067       0    0          10   \n",
       "4    48067       0    0          10   \n",
       "\n",
       "                                        genre_vector  \n",
       "0  [0.0, 0.0, 0.0, 0.0, 0.0, 0.0, 0.0, 1.0, 0.0, ...  \n",
       "1  [0.0, 0.0, 1.0, 1.0, 0.0, 0.0, 0.0, 0.0, 0.0, ...  \n",
       "2  [0.0, 0.0, 0.0, 0.0, 0.0, 0.0, 0.0, 0.0, 0.0, ...  \n",
       "3  [0.0, 0.0, 0.0, 0.0, 0.0, 0.0, 0.0, 1.0, 0.0, ...  \n",
       "4  [0.0, 0.0, 1.0, 1.0, 1.0, 0.0, 0.0, 0.0, 0.0, ...  "
      ]
     },
     "execution_count": 6,
     "metadata": {},
     "output_type": "execute_result"
    }
   ],
   "source": [
    "ratings_full = ratings_full.merge(movies[['MovieID', 'genre_vector']], on='MovieID')\n",
    "\n",
    "ratings_full.head()"
   ]
  },
  {
   "cell_type": "code",
   "execution_count": 7,
   "metadata": {},
   "outputs": [],
   "source": [
    "# Calcular media por usuario\n",
    "user_mean_rating = ratings_full.groupby('user')['Rating'].mean().to_dict()\n",
    "\n",
    "# Crear nueva columna con rating centrado\n",
    "ratings_full['rating_centered'] = ratings_full.apply(\n",
    "    lambda row: row['Rating'] - user_mean_rating[row['user']], axis=1\n",
    ")\n"
   ]
  },
  {
   "cell_type": "code",
   "execution_count": 8,
   "metadata": {},
   "outputs": [],
   "source": [
    "import torch.nn as nn\n",
    "\n",
    "class FullHybridNCF_BN(nn.Module):\n",
    "    def __init__(self, num_users, num_items, num_genders, num_ages, num_occs, num_genres,\n",
    "                 embedding_dim=32, mlp_layers=[64, 32, 16], dropout=0.3):\n",
    "        super(FullHybridNCF_BN, self).__init__()\n",
    "\n",
    "        # Embeddings usuario-película\n",
    "        self.user_embedding_gmf = nn.Embedding(num_users, embedding_dim)\n",
    "        self.item_embedding_gmf = nn.Embedding(num_items, embedding_dim)\n",
    "\n",
    "        self.user_embedding_mlp = nn.Embedding(num_users, embedding_dim)\n",
    "        self.item_embedding_mlp = nn.Embedding(num_items, embedding_dim)\n",
    "\n",
    "        # Embeddings de metadata\n",
    "        self.gender_embedding = nn.Embedding(num_genders, 4)\n",
    "        self.age_embedding = nn.Embedding(num_ages, 4)\n",
    "        self.occ_embedding = nn.Embedding(num_occs, 4)\n",
    "\n",
    "        # Proyección de géneros (multi-hot → denso)\n",
    "        self.genre_dense = nn.Linear(num_genres, 8)\n",
    "\n",
    "        # MLP con BatchNorm\n",
    "        mlp_input_size = 2 * embedding_dim + 3 * 4 + 8\n",
    "        layers = []\n",
    "        for layer_size in mlp_layers:\n",
    "            layers.append(nn.Linear(mlp_input_size, layer_size))\n",
    "            layers.append(nn.BatchNorm1d(layer_size))\n",
    "            layers.append(nn.ReLU())\n",
    "            layers.append(nn.Dropout(dropout))\n",
    "            mlp_input_size = layer_size\n",
    "        self.mlp = nn.Sequential(*layers)\n",
    "\n",
    "        # Capa de salida\n",
    "        self.final_layer = nn.Linear(embedding_dim + mlp_layers[-1], 1)\n",
    "\n",
    "    def forward(self, user_ids, item_ids, gender_ids, age_ids, occ_ids, genre_vecs):\n",
    "        # GMF\n",
    "        gmf_user = self.user_embedding_gmf(user_ids)\n",
    "        gmf_item = self.item_embedding_gmf(item_ids)\n",
    "        gmf_output = gmf_user * gmf_item\n",
    "\n",
    "        # MLP\n",
    "        mlp_user = self.user_embedding_mlp(user_ids)\n",
    "        mlp_item = self.item_embedding_mlp(item_ids)\n",
    "        gender_emb = self.gender_embedding(gender_ids)\n",
    "        age_emb = self.age_embedding(age_ids)\n",
    "        occ_emb = self.occ_embedding(occ_ids)\n",
    "        genre_proj = self.genre_dense(genre_vecs)\n",
    "\n",
    "        mlp_input = torch.cat([mlp_user, mlp_item, gender_emb, age_emb, occ_emb, genre_proj], dim=-1)\n",
    "        mlp_output = self.mlp(mlp_input)\n",
    "\n",
    "        # Concatenar GMF + MLP\n",
    "        final_input = torch.cat([gmf_output, mlp_output], dim=-1)\n",
    "        output = self.final_layer(final_input)\n",
    "        return output.squeeze()\n"
   ]
  },
  {
   "cell_type": "code",
   "execution_count": 9,
   "metadata": {},
   "outputs": [],
   "source": [
    "class CenteredHybridDataset(Dataset):\n",
    "    def __init__(self, df):\n",
    "        self.users = torch.tensor(df['user'].values, dtype=torch.long)\n",
    "        self.items = torch.tensor(df['movie'].values, dtype=torch.long)\n",
    "        self.centered_ratings = torch.tensor(df['rating_centered'].values, dtype=torch.float)\n",
    "        self.genders = torch.tensor(df['gender'].values, dtype=torch.long)\n",
    "        self.ages = torch.tensor(df['age'].values, dtype=torch.long)\n",
    "        self.occs = torch.tensor(df['occupation'].values, dtype=torch.long)\n",
    "        self.genres = torch.tensor(np.stack(df['genre_vector'].values), dtype=torch.float)\n",
    "        self.user_means = torch.tensor(df['user'].map(user_mean_rating).values, dtype=torch.float)\n",
    "\n",
    "    def __len__(self):\n",
    "        return len(self.centered_ratings)\n",
    "\n",
    "    def __getitem__(self, idx):\n",
    "        return (\n",
    "            self.users[idx],\n",
    "            self.items[idx],\n",
    "            self.genders[idx],\n",
    "            self.ages[idx],\n",
    "            self.occs[idx],\n",
    "            self.genres[idx],\n",
    "            self.centered_ratings[idx],\n",
    "            self.user_means[idx]\n",
    "        )\n"
   ]
  },
  {
   "cell_type": "code",
   "execution_count": 10,
   "metadata": {},
   "outputs": [],
   "source": [
    "from sklearn.model_selection import train_test_split\n",
    "\n",
    "# Dividir de nuevo con ratings centrados\n",
    "train_df, test_df = train_test_split(ratings_full, test_size=0.2, random_state=42)\n",
    "train_df, val_df = train_test_split(train_df, test_size=0.1, random_state=42)\n",
    "\n",
    "# Datasets y loaders con rating centrado\n",
    "train_dataset = CenteredHybridDataset(train_df)\n",
    "val_dataset = CenteredHybridDataset(val_df)\n",
    "\n",
    "train_loader = DataLoader(train_dataset, batch_size=256, shuffle=True)\n",
    "val_loader = DataLoader(val_dataset, batch_size=256)\n",
    "\n",
    "\n"
   ]
  },
  {
   "cell_type": "code",
   "execution_count": 11,
   "metadata": {},
   "outputs": [],
   "source": [
    "def train_centered_model(model, train_loader, val_loader, epochs=10, lr=0.001, device='cpu'):\n",
    "    model.to(device)\n",
    "    optimizer = optim.Adam(model.parameters(), lr=lr)\n",
    "    criterion = nn.MSELoss()\n",
    "\n",
    "    for epoch in range(epochs):\n",
    "        model.train()\n",
    "        train_losses = []\n",
    "\n",
    "        for user, item, gender, age, occ, genre_vec, centered_rating, user_mean in tqdm(train_loader, desc=f\"Epoch {epoch+1}/{epochs}\"):\n",
    "            user, item = user.to(device), item.to(device)\n",
    "            gender, age, occ = gender.to(device), age.to(device), occ.to(device)\n",
    "            genre_vec = genre_vec.to(device)\n",
    "            centered_rating = centered_rating.to(device)\n",
    "            user_mean = user_mean.to(device)\n",
    "\n",
    "            optimizer.zero_grad()\n",
    "            pred_deviation = model(user, item, gender, age, occ, genre_vec)\n",
    "            pred_rating = pred_deviation + user_mean  # reconstrucción final\n",
    "            true_rating = centered_rating + user_mean\n",
    "            loss = criterion(pred_rating, true_rating)\n",
    "\n",
    "            loss.backward()\n",
    "            optimizer.step()\n",
    "            train_losses.append(loss.item())\n",
    "\n",
    "        # Validación\n",
    "        model.eval()\n",
    "        val_losses = []\n",
    "        with torch.no_grad():\n",
    "            for user, item, gender, age, occ, genre_vec, centered_rating, user_mean in val_loader:\n",
    "                user, item = user.to(device), item.to(device)\n",
    "                gender, age, occ = gender.to(device), age.to(device), occ.to(device)\n",
    "                genre_vec = genre_vec.to(device)\n",
    "                centered_rating = centered_rating.to(device)\n",
    "                user_mean = user_mean.to(device)\n",
    "\n",
    "                pred_deviation = model(user, item, gender, age, occ, genre_vec)\n",
    "                pred_rating = pred_deviation + user_mean\n",
    "                true_rating = centered_rating + user_mean\n",
    "                val_loss = criterion(pred_rating, true_rating)\n",
    "                val_losses.append(val_loss.item())\n",
    "\n",
    "        print(f\"Epoch {epoch+1}: Train MSE = {np.mean(train_losses):.4f}, Val MSE = {np.mean(val_losses):.4f}, Val RMSE = {np.sqrt(np.mean(val_losses)):.4f}\")\n"
   ]
  },
  {
   "cell_type": "code",
   "execution_count": 12,
   "metadata": {},
   "outputs": [],
   "source": [
    "import torch\n",
    "\n",
    "device = torch.device(\"cuda\" if torch.cuda.is_available() else \"cpu\")\n"
   ]
  },
  {
   "cell_type": "code",
   "execution_count": 17,
   "metadata": {},
   "outputs": [],
   "source": [
    "# Parámetros de dimensiones\n",
    "num_genres = len(genre_to_idx)\n",
    "\n",
    "# Inicialización del modelo completo\n",
    "full_model = FullHybridNCF_BN(\n",
    "    num_users=num_users,\n",
    "    num_items=num_movies,\n",
    "    num_genders=ratings_full['gender'].nunique(),\n",
    "    num_ages=ratings_full['age'].nunique(),\n",
    "    num_occs=ratings_full['occupation'].nunique(),\n",
    "    num_genres=num_genres,\n",
    "    embedding_dim=128,\n",
    "    mlp_layers=[128, 64, 32],\n",
    "    dropout=0.3\n",
    ").to(device)\n"
   ]
  },
  {
   "cell_type": "code",
   "execution_count": 18,
   "metadata": {},
   "outputs": [
    {
     "name": "stderr",
     "output_type": "stream",
     "text": [
      "Epoch 1/10: 100%|██████████| 2814/2814 [00:29<00:00, 95.86it/s] \n"
     ]
    },
    {
     "name": "stdout",
     "output_type": "stream",
     "text": [
      "Epoch 1: Train MSE = 0.9266, Val MSE = 0.8466, Val RMSE = 0.9201\n"
     ]
    },
    {
     "name": "stderr",
     "output_type": "stream",
     "text": [
      "Epoch 2/10: 100%|██████████| 2814/2814 [00:29<00:00, 94.05it/s] \n"
     ]
    },
    {
     "name": "stdout",
     "output_type": "stream",
     "text": [
      "Epoch 2: Train MSE = 0.8406, Val MSE = 0.8146, Val RMSE = 0.9025\n"
     ]
    },
    {
     "name": "stderr",
     "output_type": "stream",
     "text": [
      "Epoch 3/10: 100%|██████████| 2814/2814 [00:29<00:00, 95.02it/s] \n"
     ]
    },
    {
     "name": "stdout",
     "output_type": "stream",
     "text": [
      "Epoch 3: Train MSE = 0.8133, Val MSE = 0.8101, Val RMSE = 0.9000\n"
     ]
    },
    {
     "name": "stderr",
     "output_type": "stream",
     "text": [
      "Epoch 4/10: 100%|██████████| 2814/2814 [00:28<00:00, 97.34it/s] \n"
     ]
    },
    {
     "name": "stdout",
     "output_type": "stream",
     "text": [
      "Epoch 4: Train MSE = 0.7953, Val MSE = 0.8048, Val RMSE = 0.8971\n"
     ]
    },
    {
     "name": "stderr",
     "output_type": "stream",
     "text": [
      "Epoch 5/10: 100%|██████████| 2814/2814 [00:28<00:00, 97.55it/s] \n"
     ]
    },
    {
     "name": "stdout",
     "output_type": "stream",
     "text": [
      "Epoch 5: Train MSE = 0.7764, Val MSE = 0.8086, Val RMSE = 0.8992\n"
     ]
    },
    {
     "name": "stderr",
     "output_type": "stream",
     "text": [
      "Epoch 6/10: 100%|██████████| 2814/2814 [00:28<00:00, 98.48it/s] \n"
     ]
    },
    {
     "name": "stdout",
     "output_type": "stream",
     "text": [
      "Epoch 6: Train MSE = 0.7518, Val MSE = 0.8218, Val RMSE = 0.9066\n"
     ]
    },
    {
     "name": "stderr",
     "output_type": "stream",
     "text": [
      "Epoch 7/10: 100%|██████████| 2814/2814 [00:28<00:00, 97.07it/s] \n"
     ]
    },
    {
     "name": "stdout",
     "output_type": "stream",
     "text": [
      "Epoch 7: Train MSE = 0.7192, Val MSE = 0.8401, Val RMSE = 0.9166\n"
     ]
    },
    {
     "name": "stderr",
     "output_type": "stream",
     "text": [
      "Epoch 8/10: 100%|██████████| 2814/2814 [00:27<00:00, 100.82it/s]\n"
     ]
    },
    {
     "name": "stdout",
     "output_type": "stream",
     "text": [
      "Epoch 8: Train MSE = 0.6826, Val MSE = 0.8609, Val RMSE = 0.9278\n"
     ]
    },
    {
     "name": "stderr",
     "output_type": "stream",
     "text": [
      "Epoch 9/10: 100%|██████████| 2814/2814 [00:28<00:00, 99.92it/s] \n"
     ]
    },
    {
     "name": "stdout",
     "output_type": "stream",
     "text": [
      "Epoch 9: Train MSE = 0.6408, Val MSE = 0.8820, Val RMSE = 0.9391\n"
     ]
    },
    {
     "name": "stderr",
     "output_type": "stream",
     "text": [
      "Epoch 10/10: 100%|██████████| 2814/2814 [00:28<00:00, 97.75it/s] \n"
     ]
    },
    {
     "name": "stdout",
     "output_type": "stream",
     "text": [
      "Epoch 10: Train MSE = 0.5997, Val MSE = 0.9184, Val RMSE = 0.9583\n"
     ]
    }
   ],
   "source": [
    "# Reutilizamos el modelo FullHybridNCF\n",
    "train_centered_model(full_model, train_loader, val_loader, epochs=10, lr=0.001, device=device)\n"
   ]
  },
  {
   "cell_type": "code",
   "execution_count": null,
   "metadata": {},
   "outputs": [],
   "source": [
    "# Dataset para test con ratings normalizados\n",
    "test_dataset = CenteredHybridDataset(test_df)\n",
    "test_loader = DataLoader(test_dataset, batch_size=256)\n"
   ]
  },
  {
   "cell_type": "code",
   "execution_count": null,
   "metadata": {},
   "outputs": [
    {
     "ename": "NameError",
     "evalue": "name 'test_loader' is not defined",
     "output_type": "error",
     "traceback": [
      "\u001b[31m---------------------------------------------------------------------------\u001b[39m",
      "\u001b[31mNameError\u001b[39m                                 Traceback (most recent call last)",
      "\u001b[36mCell\u001b[39m\u001b[36m \u001b[39m\u001b[32mIn[16]\u001b[39m\u001b[32m, line 29\u001b[39m\n\u001b[32m     26\u001b[39m     \u001b[38;5;28;01mreturn\u001b[39;00m all_preds, all_ratings\n\u001b[32m     28\u001b[39m \u001b[38;5;66;03m# Ejecutar evaluación\u001b[39;00m\n\u001b[32m---> \u001b[39m\u001b[32m29\u001b[39m final_preds, final_truth = evaluate_full_model(full_model, \u001b[43mtest_loader\u001b[49m, device)\n",
      "\u001b[31mNameError\u001b[39m: name 'test_loader' is not defined"
     ]
    }
   ],
   "source": [
    "def evaluate_centered_model(model, test_loader, device='cpu'):\n",
    "    model.eval()\n",
    "    model.to(device)\n",
    "\n",
    "    all_preds = []\n",
    "    all_true = []\n",
    "\n",
    "    with torch.no_grad():\n",
    "        for user, item, gender, age, occ, genre_vec, centered_rating, user_mean in test_loader:\n",
    "            user, item = user.to(device), item.to(device)\n",
    "            gender, age, occ = gender.to(device), age.to(device), occ.to(device)\n",
    "            genre_vec = genre_vec.to(device)\n",
    "            user_mean = user_mean.to(device)\n",
    "            centered_rating = centered_rating.to(device)\n",
    "\n",
    "            pred_deviation = model(user, item, gender, age, occ, genre_vec)\n",
    "            pred_rating = pred_deviation + user_mean\n",
    "            true_rating = centered_rating + user_mean\n",
    "\n",
    "            all_preds.extend(pred_rating.cpu().numpy())\n",
    "            all_true.extend(true_rating.cpu().numpy())\n",
    "\n",
    "    all_preds = np.array(all_preds)\n",
    "    all_true = np.array(all_true)\n",
    "\n",
    "    mse = np.mean((all_preds - all_true) ** 2)\n",
    "    rmse = np.sqrt(mse)\n",
    "    print(f\"Test RMSE: {rmse:.4f}\")\n",
    "    return rmse\n"
   ]
  },
  {
   "cell_type": "code",
   "execution_count": 19,
   "metadata": {},
   "outputs": [
    {
     "ename": "NameError",
     "evalue": "name 'evaluate_centered_model' is not defined",
     "output_type": "error",
     "traceback": [
      "\u001b[31m---------------------------------------------------------------------------\u001b[39m",
      "\u001b[31mNameError\u001b[39m                                 Traceback (most recent call last)",
      "\u001b[36mCell\u001b[39m\u001b[36m \u001b[39m\u001b[32mIn[19]\u001b[39m\u001b[32m, line 1\u001b[39m\n\u001b[32m----> \u001b[39m\u001b[32m1\u001b[39m \u001b[43mevaluate_centered_model\u001b[49m(model=full_model, test_loader=test_loader, device=device)\n",
      "\u001b[31mNameError\u001b[39m: name 'evaluate_centered_model' is not defined"
     ]
    }
   ],
   "source": [
    "evaluate_centered_model(model=full_model, test_loader=test_loader, device=device)\n"
   ]
  }
 ],
 "metadata": {
  "kernelspec": {
   "display_name": ".venv",
   "language": "python",
   "name": "python3"
  },
  "language_info": {
   "codemirror_mode": {
    "name": "ipython",
    "version": 3
   },
   "file_extension": ".py",
   "mimetype": "text/x-python",
   "name": "python",
   "nbconvert_exporter": "python",
   "pygments_lexer": "ipython3",
   "version": "3.12.3"
  }
 },
 "nbformat": 4,
 "nbformat_minor": 2
}
