{
 "cells": [
  {
   "cell_type": "code",
   "execution_count": 20,
   "metadata": {},
   "outputs": [],
   "source": [
    "import torch\n",
    "import torch.nn as nn\n",
    "from torch.utils.data import Dataset, DataLoader\n",
    "import torch.nn.functional as F\n",
    "import torch.optim as optim\n",
    "from tqdm import tqdm\n",
    "import numpy as np\n"
   ]
  },
  {
   "cell_type": "code",
   "execution_count": 21,
   "metadata": {},
   "outputs": [
    {
     "data": {
      "text/html": [
       "<div>\n",
       "<style scoped>\n",
       "    .dataframe tbody tr th:only-of-type {\n",
       "        vertical-align: middle;\n",
       "    }\n",
       "\n",
       "    .dataframe tbody tr th {\n",
       "        vertical-align: top;\n",
       "    }\n",
       "\n",
       "    .dataframe thead th {\n",
       "        text-align: right;\n",
       "    }\n",
       "</style>\n",
       "<table border=\"1\" class=\"dataframe\">\n",
       "  <thead>\n",
       "    <tr style=\"text-align: right;\">\n",
       "      <th></th>\n",
       "      <th>UserID</th>\n",
       "      <th>MovieID</th>\n",
       "      <th>Rating</th>\n",
       "      <th>Timestamp</th>\n",
       "    </tr>\n",
       "  </thead>\n",
       "  <tbody>\n",
       "    <tr>\n",
       "      <th>0</th>\n",
       "      <td>1</td>\n",
       "      <td>1193</td>\n",
       "      <td>5</td>\n",
       "      <td>978300760</td>\n",
       "    </tr>\n",
       "    <tr>\n",
       "      <th>1</th>\n",
       "      <td>1</td>\n",
       "      <td>661</td>\n",
       "      <td>3</td>\n",
       "      <td>978302109</td>\n",
       "    </tr>\n",
       "    <tr>\n",
       "      <th>2</th>\n",
       "      <td>1</td>\n",
       "      <td>914</td>\n",
       "      <td>3</td>\n",
       "      <td>978301968</td>\n",
       "    </tr>\n",
       "    <tr>\n",
       "      <th>3</th>\n",
       "      <td>1</td>\n",
       "      <td>3408</td>\n",
       "      <td>4</td>\n",
       "      <td>978300275</td>\n",
       "    </tr>\n",
       "    <tr>\n",
       "      <th>4</th>\n",
       "      <td>1</td>\n",
       "      <td>2355</td>\n",
       "      <td>5</td>\n",
       "      <td>978824291</td>\n",
       "    </tr>\n",
       "  </tbody>\n",
       "</table>\n",
       "</div>"
      ],
      "text/plain": [
       "   UserID  MovieID  Rating  Timestamp\n",
       "0       1     1193       5  978300760\n",
       "1       1      661       3  978302109\n",
       "2       1      914       3  978301968\n",
       "3       1     3408       4  978300275\n",
       "4       1     2355       5  978824291"
      ]
     },
     "execution_count": 21,
     "metadata": {},
     "output_type": "execute_result"
    }
   ],
   "source": [
    "# Librerías\n",
    "import pandas as pd\n",
    "import numpy as np\n",
    "\n",
    "\n",
    "movies_path = \"ml-1m/movies.dat\"\n",
    "ratings_path = \"ml-1m/ratings.dat\"\n",
    "users_path = \"ml-1m/users.dat\"\n",
    "\n",
    "\n",
    "# Carga de los datos\n",
    "users = pd.read_csv(users_path, sep=\"::\", engine=\"python\", names=[\"UserID\", \"Gender\", \"Age\", \"Occupation\", \"Zip-code\"], encoding=\"latin-1\")\n",
    "movies = pd.read_csv(movies_path, sep=\"::\", engine=\"python\", names=[\"MovieID\", \"Title\", \"Genres\"], encoding=\"latin-1\")\n",
    "ratings = pd.read_csv(ratings_path, sep=\"::\", engine=\"python\", names=[\"UserID\", \"MovieID\", \"Rating\", \"Timestamp\"], encoding=\"latin-1\")\n",
    "\n",
    "# Mostrar primeras filas\n",
    "ratings.head()\n",
    "\n"
   ]
  },
  {
   "cell_type": "code",
   "execution_count": 22,
   "metadata": {},
   "outputs": [
    {
     "data": {
      "text/plain": [
       "(6040, 3706)"
      ]
     },
     "execution_count": 22,
     "metadata": {},
     "output_type": "execute_result"
    }
   ],
   "source": [
    "from sklearn.preprocessing import LabelEncoder\n",
    "\n",
    "user_encoder = LabelEncoder()\n",
    "movie_encoder = LabelEncoder()\n",
    "\n",
    "ratings['user'] = user_encoder.fit_transform(ratings['UserID'])\n",
    "ratings['movie'] = movie_encoder.fit_transform(ratings['MovieID'])\n",
    "\n",
    "# Guardamos número de usuarios y películas únicos\n",
    "num_users = ratings['user'].nunique()\n",
    "num_movies = ratings['movie'].nunique()\n",
    "\n",
    "num_users, num_movies\n"
   ]
  },
  {
   "cell_type": "code",
   "execution_count": 23,
   "metadata": {},
   "outputs": [],
   "source": [
    "# Obtener lista única de géneros\n",
    "movies['Genres'] = movies['Genres'].str.split('|')\n",
    "all_genres = sorted(set(g for sublist in movies['Genres'] for g in sublist))\n",
    "genre_to_idx = {genre: idx for idx, genre in enumerate(all_genres)}\n",
    "\n",
    "# Crear codificación multi-hot para cada película\n",
    "def encode_genres(genres_list):\n",
    "    multi_hot = np.zeros(len(genre_to_idx), dtype=np.float32)\n",
    "    for genre in genres_list:\n",
    "        if genre in genre_to_idx:\n",
    "            multi_hot[genre_to_idx[genre]] = 1.0\n",
    "    return multi_hot\n",
    "\n",
    "movies['genre_vector'] = movies['Genres'].apply(encode_genres)\n"
   ]
  },
  {
   "cell_type": "code",
   "execution_count": 24,
   "metadata": {},
   "outputs": [
    {
     "name": "stdout",
     "output_type": "stream",
     "text": [
      "Géneros: ['F' 'M']\n",
      "Edades: [ 1 18 25 35 45 50 56]\n",
      "Ocupaciones: [ 0  1  2  3  4  5  6  7  8  9 10 11 12 13 14 15 16 17 18 19 20]\n"
     ]
    },
    {
     "data": {
      "text/html": [
       "<div>\n",
       "<style scoped>\n",
       "    .dataframe tbody tr th:only-of-type {\n",
       "        vertical-align: middle;\n",
       "    }\n",
       "\n",
       "    .dataframe tbody tr th {\n",
       "        vertical-align: top;\n",
       "    }\n",
       "\n",
       "    .dataframe thead th {\n",
       "        text-align: right;\n",
       "    }\n",
       "</style>\n",
       "<table border=\"1\" class=\"dataframe\">\n",
       "  <thead>\n",
       "    <tr style=\"text-align: right;\">\n",
       "      <th></th>\n",
       "      <th>user</th>\n",
       "      <th>movie</th>\n",
       "      <th>Rating</th>\n",
       "      <th>gender</th>\n",
       "      <th>age</th>\n",
       "      <th>occupation</th>\n",
       "    </tr>\n",
       "  </thead>\n",
       "  <tbody>\n",
       "    <tr>\n",
       "      <th>0</th>\n",
       "      <td>0</td>\n",
       "      <td>1104</td>\n",
       "      <td>5</td>\n",
       "      <td>0</td>\n",
       "      <td>0</td>\n",
       "      <td>10</td>\n",
       "    </tr>\n",
       "    <tr>\n",
       "      <th>1</th>\n",
       "      <td>0</td>\n",
       "      <td>639</td>\n",
       "      <td>3</td>\n",
       "      <td>0</td>\n",
       "      <td>0</td>\n",
       "      <td>10</td>\n",
       "    </tr>\n",
       "    <tr>\n",
       "      <th>2</th>\n",
       "      <td>0</td>\n",
       "      <td>853</td>\n",
       "      <td>3</td>\n",
       "      <td>0</td>\n",
       "      <td>0</td>\n",
       "      <td>10</td>\n",
       "    </tr>\n",
       "    <tr>\n",
       "      <th>3</th>\n",
       "      <td>0</td>\n",
       "      <td>3177</td>\n",
       "      <td>4</td>\n",
       "      <td>0</td>\n",
       "      <td>0</td>\n",
       "      <td>10</td>\n",
       "    </tr>\n",
       "    <tr>\n",
       "      <th>4</th>\n",
       "      <td>0</td>\n",
       "      <td>2162</td>\n",
       "      <td>5</td>\n",
       "      <td>0</td>\n",
       "      <td>0</td>\n",
       "      <td>10</td>\n",
       "    </tr>\n",
       "  </tbody>\n",
       "</table>\n",
       "</div>"
      ],
      "text/plain": [
       "   user  movie  Rating  gender  age  occupation\n",
       "0     0   1104       5       0    0          10\n",
       "1     0    639       3       0    0          10\n",
       "2     0    853       3       0    0          10\n",
       "3     0   3177       4       0    0          10\n",
       "4     0   2162       5       0    0          10"
      ]
     },
     "execution_count": 24,
     "metadata": {},
     "output_type": "execute_result"
    }
   ],
   "source": [
    "from sklearn.preprocessing import LabelEncoder\n",
    "\n",
    "# Fusionar ratings con info del usuario\n",
    "ratings_full = ratings.merge(users, on=\"UserID\")\n",
    "\n",
    "# Codificar gender (F/M → 0/1 por ejemplo)\n",
    "gender_encoder = LabelEncoder()\n",
    "ratings_full['gender'] = gender_encoder.fit_transform(ratings_full['Gender'])\n",
    "\n",
    "# Codificar age y occupation como categorías\n",
    "age_encoder = LabelEncoder()\n",
    "occ_encoder = LabelEncoder()\n",
    "\n",
    "ratings_full['age'] = age_encoder.fit_transform(ratings_full['Age'])\n",
    "ratings_full['occupation'] = occ_encoder.fit_transform(ratings_full['Occupation'])\n",
    "\n",
    "# Mostrar las clases para documentar\n",
    "print(\"Géneros:\", gender_encoder.classes_)\n",
    "print(\"Edades:\", age_encoder.classes_)\n",
    "print(\"Ocupaciones:\", occ_encoder.classes_)\n",
    "\n",
    "ratings_full[['user', 'movie', 'Rating', 'gender', 'age', 'occupation']].head()\n"
   ]
  },
  {
   "cell_type": "code",
   "execution_count": 25,
   "metadata": {},
   "outputs": [
    {
     "data": {
      "text/html": [
       "<div>\n",
       "<style scoped>\n",
       "    .dataframe tbody tr th:only-of-type {\n",
       "        vertical-align: middle;\n",
       "    }\n",
       "\n",
       "    .dataframe tbody tr th {\n",
       "        vertical-align: top;\n",
       "    }\n",
       "\n",
       "    .dataframe thead th {\n",
       "        text-align: right;\n",
       "    }\n",
       "</style>\n",
       "<table border=\"1\" class=\"dataframe\">\n",
       "  <thead>\n",
       "    <tr style=\"text-align: right;\">\n",
       "      <th></th>\n",
       "      <th>UserID</th>\n",
       "      <th>MovieID</th>\n",
       "      <th>Rating</th>\n",
       "      <th>Timestamp</th>\n",
       "      <th>user</th>\n",
       "      <th>movie</th>\n",
       "      <th>Gender</th>\n",
       "      <th>Age</th>\n",
       "      <th>Occupation</th>\n",
       "      <th>Zip-code</th>\n",
       "      <th>gender</th>\n",
       "      <th>age</th>\n",
       "      <th>occupation</th>\n",
       "      <th>genre_vector</th>\n",
       "    </tr>\n",
       "  </thead>\n",
       "  <tbody>\n",
       "    <tr>\n",
       "      <th>0</th>\n",
       "      <td>1</td>\n",
       "      <td>1193</td>\n",
       "      <td>5</td>\n",
       "      <td>978300760</td>\n",
       "      <td>0</td>\n",
       "      <td>1104</td>\n",
       "      <td>F</td>\n",
       "      <td>1</td>\n",
       "      <td>10</td>\n",
       "      <td>48067</td>\n",
       "      <td>0</td>\n",
       "      <td>0</td>\n",
       "      <td>10</td>\n",
       "      <td>[0.0, 0.0, 0.0, 0.0, 0.0, 0.0, 0.0, 1.0, 0.0, ...</td>\n",
       "    </tr>\n",
       "    <tr>\n",
       "      <th>1</th>\n",
       "      <td>1</td>\n",
       "      <td>661</td>\n",
       "      <td>3</td>\n",
       "      <td>978302109</td>\n",
       "      <td>0</td>\n",
       "      <td>639</td>\n",
       "      <td>F</td>\n",
       "      <td>1</td>\n",
       "      <td>10</td>\n",
       "      <td>48067</td>\n",
       "      <td>0</td>\n",
       "      <td>0</td>\n",
       "      <td>10</td>\n",
       "      <td>[0.0, 0.0, 1.0, 1.0, 0.0, 0.0, 0.0, 0.0, 0.0, ...</td>\n",
       "    </tr>\n",
       "    <tr>\n",
       "      <th>2</th>\n",
       "      <td>1</td>\n",
       "      <td>914</td>\n",
       "      <td>3</td>\n",
       "      <td>978301968</td>\n",
       "      <td>0</td>\n",
       "      <td>853</td>\n",
       "      <td>F</td>\n",
       "      <td>1</td>\n",
       "      <td>10</td>\n",
       "      <td>48067</td>\n",
       "      <td>0</td>\n",
       "      <td>0</td>\n",
       "      <td>10</td>\n",
       "      <td>[0.0, 0.0, 0.0, 0.0, 0.0, 0.0, 0.0, 0.0, 0.0, ...</td>\n",
       "    </tr>\n",
       "    <tr>\n",
       "      <th>3</th>\n",
       "      <td>1</td>\n",
       "      <td>3408</td>\n",
       "      <td>4</td>\n",
       "      <td>978300275</td>\n",
       "      <td>0</td>\n",
       "      <td>3177</td>\n",
       "      <td>F</td>\n",
       "      <td>1</td>\n",
       "      <td>10</td>\n",
       "      <td>48067</td>\n",
       "      <td>0</td>\n",
       "      <td>0</td>\n",
       "      <td>10</td>\n",
       "      <td>[0.0, 0.0, 0.0, 0.0, 0.0, 0.0, 0.0, 1.0, 0.0, ...</td>\n",
       "    </tr>\n",
       "    <tr>\n",
       "      <th>4</th>\n",
       "      <td>1</td>\n",
       "      <td>2355</td>\n",
       "      <td>5</td>\n",
       "      <td>978824291</td>\n",
       "      <td>0</td>\n",
       "      <td>2162</td>\n",
       "      <td>F</td>\n",
       "      <td>1</td>\n",
       "      <td>10</td>\n",
       "      <td>48067</td>\n",
       "      <td>0</td>\n",
       "      <td>0</td>\n",
       "      <td>10</td>\n",
       "      <td>[0.0, 0.0, 1.0, 1.0, 1.0, 0.0, 0.0, 0.0, 0.0, ...</td>\n",
       "    </tr>\n",
       "  </tbody>\n",
       "</table>\n",
       "</div>"
      ],
      "text/plain": [
       "   UserID  MovieID  Rating  Timestamp  user  movie Gender  Age  Occupation  \\\n",
       "0       1     1193       5  978300760     0   1104      F    1          10   \n",
       "1       1      661       3  978302109     0    639      F    1          10   \n",
       "2       1      914       3  978301968     0    853      F    1          10   \n",
       "3       1     3408       4  978300275     0   3177      F    1          10   \n",
       "4       1     2355       5  978824291     0   2162      F    1          10   \n",
       "\n",
       "  Zip-code  gender  age  occupation  \\\n",
       "0    48067       0    0          10   \n",
       "1    48067       0    0          10   \n",
       "2    48067       0    0          10   \n",
       "3    48067       0    0          10   \n",
       "4    48067       0    0          10   \n",
       "\n",
       "                                        genre_vector  \n",
       "0  [0.0, 0.0, 0.0, 0.0, 0.0, 0.0, 0.0, 1.0, 0.0, ...  \n",
       "1  [0.0, 0.0, 1.0, 1.0, 0.0, 0.0, 0.0, 0.0, 0.0, ...  \n",
       "2  [0.0, 0.0, 0.0, 0.0, 0.0, 0.0, 0.0, 0.0, 0.0, ...  \n",
       "3  [0.0, 0.0, 0.0, 0.0, 0.0, 0.0, 0.0, 1.0, 0.0, ...  \n",
       "4  [0.0, 0.0, 1.0, 1.0, 1.0, 0.0, 0.0, 0.0, 0.0, ...  "
      ]
     },
     "execution_count": 25,
     "metadata": {},
     "output_type": "execute_result"
    }
   ],
   "source": [
    "ratings_full = ratings_full.merge(movies[['MovieID', 'genre_vector']], on='MovieID')\n",
    "\n",
    "ratings_full.head()"
   ]
  },
  {
   "cell_type": "code",
   "execution_count": 26,
   "metadata": {},
   "outputs": [],
   "source": [
    "class FullHybridNCF(nn.Module):\n",
    "    def __init__(self, num_users, num_items, num_genders, num_ages, num_occs, num_genres,\n",
    "                 embedding_dim=32, mlp_layers=[64, 32, 16], dropout=0.3):\n",
    "        super(FullHybridNCF, self).__init__()\n",
    "\n",
    "        # Embeddings usuario-película\n",
    "        self.user_embedding_gmf = nn.Embedding(num_users, embedding_dim)\n",
    "        self.item_embedding_gmf = nn.Embedding(num_items, embedding_dim)\n",
    "\n",
    "        self.user_embedding_mlp = nn.Embedding(num_users, embedding_dim)\n",
    "        self.item_embedding_mlp = nn.Embedding(num_items, embedding_dim)\n",
    "\n",
    "        # Embeddings para metadata usuario\n",
    "        self.gender_embedding = nn.Embedding(num_genders, 4)\n",
    "        self.age_embedding = nn.Embedding(num_ages, 4)\n",
    "        self.occ_embedding = nn.Embedding(num_occs, 4)\n",
    "\n",
    "        # Proyección densa para género multi-hot\n",
    "        self.genre_dense = nn.Linear(num_genres, 8)\n",
    "\n",
    "        # MLP\n",
    "        mlp_input_size = 2 * embedding_dim + 3 * 4 + 8  # user + item + gender/age/occ + genre info\n",
    "        mlp_layers_seq = []\n",
    "        for layer_size in mlp_layers:\n",
    "            mlp_layers_seq.append(nn.Linear(mlp_input_size, layer_size))\n",
    "            mlp_layers_seq.append(nn.ReLU())\n",
    "            mlp_layers_seq.append(nn.Dropout(dropout))\n",
    "            mlp_input_size = layer_size\n",
    "        self.mlp = nn.Sequential(*mlp_layers_seq)\n",
    "\n",
    "        # Capa final combinada\n",
    "        self.final_layer = nn.Linear(embedding_dim + mlp_layers[-1], 1)\n",
    "\n",
    "    def forward(self, user_ids, item_ids, gender_ids, age_ids, occ_ids, genre_vecs):\n",
    "        # GMF\n",
    "        gmf_user = self.user_embedding_gmf(user_ids)\n",
    "        gmf_item = self.item_embedding_gmf(item_ids)\n",
    "        gmf_output = gmf_user * gmf_item\n",
    "\n",
    "        # MLP con metadata\n",
    "        mlp_user = self.user_embedding_mlp(user_ids)\n",
    "        mlp_item = self.item_embedding_mlp(item_ids)\n",
    "        gender_emb = self.gender_embedding(gender_ids)\n",
    "        age_emb = self.age_embedding(age_ids)\n",
    "        occ_emb = self.occ_embedding(occ_ids)\n",
    "        genre_proj = self.genre_dense(genre_vecs)\n",
    "\n",
    "        mlp_input = torch.cat([mlp_user, mlp_item, gender_emb, age_emb, occ_emb, genre_proj], dim=-1)\n",
    "        mlp_output = self.mlp(mlp_input)\n",
    "\n",
    "        # Concatenar GMF y MLP\n",
    "        final_input = torch.cat([gmf_output, mlp_output], dim=-1)\n",
    "        output = self.final_layer(final_input)\n",
    "        return output.squeeze()\n"
   ]
  },
  {
   "cell_type": "code",
   "execution_count": 27,
   "metadata": {},
   "outputs": [],
   "source": [
    "class FullHybridDataset(Dataset):\n",
    "    def __init__(self, df):\n",
    "        self.users = torch.tensor(df['user'].values, dtype=torch.long)\n",
    "        self.items = torch.tensor(df['movie'].values, dtype=torch.long)\n",
    "        self.ratings = torch.tensor(df['Rating'].values, dtype=torch.float)\n",
    "        self.genders = torch.tensor(df['gender'].values, dtype=torch.long)\n",
    "        self.ages = torch.tensor(df['age'].values, dtype=torch.long)\n",
    "        self.occs = torch.tensor(df['occupation'].values, dtype=torch.long)\n",
    "        self.genres = torch.tensor(np.stack(df['genre_vector'].values), dtype=torch.float)\n",
    "\n",
    "    def __len__(self):\n",
    "        return len(self.ratings)\n",
    "\n",
    "    def __getitem__(self, idx):\n",
    "        return (\n",
    "            self.users[idx],\n",
    "            self.items[idx],\n",
    "            self.genders[idx],\n",
    "            self.ages[idx],\n",
    "            self.occs[idx],\n",
    "            self.genres[idx],\n",
    "            self.ratings[idx]\n",
    "        )\n"
   ]
  },
  {
   "cell_type": "code",
   "execution_count": 28,
   "metadata": {},
   "outputs": [],
   "source": [
    "from sklearn.model_selection import train_test_split\n",
    "\n",
    "# Separar en train, val y test\n",
    "train_df, test_df = train_test_split(ratings_full, test_size=0.2, random_state=42)\n",
    "train_df, val_df = train_test_split(train_df, test_size=0.1, random_state=42)\n",
    "\n",
    "# Crear datasets\n",
    "train_dataset = FullHybridDataset(train_df)\n",
    "val_dataset = FullHybridDataset(val_df)\n",
    "test_dataset = FullHybridDataset(test_df)\n",
    "\n",
    "# Dataloaders\n",
    "train_loader = DataLoader(train_dataset, batch_size=256, shuffle=True)\n",
    "val_loader = DataLoader(val_dataset, batch_size=256)\n",
    "test_loader = DataLoader(test_dataset, batch_size=256)\n"
   ]
  },
  {
   "cell_type": "code",
   "execution_count": 29,
   "metadata": {},
   "outputs": [],
   "source": [
    "def train_full_model(model, train_loader, val_loader, epochs=10, lr=0.001, device='cpu'):\n",
    "    model.to(device)\n",
    "    optimizer = optim.Adam(model.parameters(), lr=lr)\n",
    "    criterion = nn.MSELoss()\n",
    "\n",
    "    for epoch in range(epochs):\n",
    "        model.train()\n",
    "        train_losses = []\n",
    "\n",
    "        for user, item, gender, age, occ, genre_vec, rating in tqdm(train_loader, desc=f\"Epoch {epoch+1}/{epochs}\"):\n",
    "            user, item = user.to(device), item.to(device)\n",
    "            gender, age, occ = gender.to(device), age.to(device), occ.to(device)\n",
    "            genre_vec = genre_vec.to(device)\n",
    "            rating = rating.to(device)\n",
    "\n",
    "            optimizer.zero_grad()\n",
    "            prediction = model(user, item, gender, age, occ, genre_vec)\n",
    "            loss = criterion(prediction, rating)\n",
    "            loss.backward()\n",
    "            optimizer.step()\n",
    "            train_losses.append(loss.item())\n",
    "\n",
    "        # Validación\n",
    "        model.eval()\n",
    "        val_losses = []\n",
    "        with torch.no_grad():\n",
    "            for user, item, gender, age, occ, genre_vec, rating in val_loader:\n",
    "                user, item = user.to(device), item.to(device)\n",
    "                gender, age, occ = gender.to(device), age.to(device), occ.to(device)\n",
    "                genre_vec = genre_vec.to(device)\n",
    "                rating = rating.to(device)\n",
    "\n",
    "                prediction = model(user, item, gender, age, occ, genre_vec)\n",
    "                val_loss = criterion(prediction, rating)\n",
    "                val_losses.append(val_loss.item())\n",
    "\n",
    "        print(f\"Epoch {epoch+1}: Train MSE = {np.mean(train_losses):.4f}, Val MSE = {np.mean(val_losses):.4f}, Val RMSE = {np.sqrt(np.mean(val_losses)):.4f}\")\n"
   ]
  },
  {
   "cell_type": "code",
   "execution_count": 31,
   "metadata": {},
   "outputs": [],
   "source": [
    "import torch\n",
    "\n",
    "device = torch.device(\"cuda\" if torch.cuda.is_available() else \"cpu\")\n"
   ]
  },
  {
   "cell_type": "code",
   "execution_count": 32,
   "metadata": {},
   "outputs": [],
   "source": [
    "# Parámetros de dimensiones\n",
    "num_genres = len(genre_to_idx)\n",
    "\n",
    "# Inicialización del modelo completo\n",
    "full_model = FullHybridNCF(\n",
    "    num_users=num_users,\n",
    "    num_items=num_movies,\n",
    "    num_genders=ratings_full['gender'].nunique(),\n",
    "    num_ages=ratings_full['age'].nunique(),\n",
    "    num_occs=ratings_full['occupation'].nunique(),\n",
    "    num_genres=num_genres,\n",
    "    embedding_dim=32,\n",
    "    mlp_layers=[64, 32, 16],\n",
    "    dropout=0.3\n",
    ").to(device)\n"
   ]
  },
  {
   "cell_type": "code",
   "execution_count": 33,
   "metadata": {},
   "outputs": [
    {
     "name": "stderr",
     "output_type": "stream",
     "text": [
      "Epoch 1/10: 100%|██████████| 2814/2814 [00:23<00:00, 119.69it/s]\n"
     ]
    },
    {
     "name": "stdout",
     "output_type": "stream",
     "text": [
      "Epoch 1: Train MSE = 1.9282, Val MSE = 1.0608, Val RMSE = 1.0300\n"
     ]
    },
    {
     "name": "stderr",
     "output_type": "stream",
     "text": [
      "Epoch 2/10: 100%|██████████| 2814/2814 [00:23<00:00, 122.24it/s]\n"
     ]
    },
    {
     "name": "stdout",
     "output_type": "stream",
     "text": [
      "Epoch 2: Train MSE = 1.1406, Val MSE = 0.8919, Val RMSE = 0.9444\n"
     ]
    },
    {
     "name": "stderr",
     "output_type": "stream",
     "text": [
      "Epoch 3/10: 100%|██████████| 2814/2814 [00:23<00:00, 120.66it/s]\n"
     ]
    },
    {
     "name": "stdout",
     "output_type": "stream",
     "text": [
      "Epoch 3: Train MSE = 0.9284, Val MSE = 0.8542, Val RMSE = 0.9242\n"
     ]
    },
    {
     "name": "stderr",
     "output_type": "stream",
     "text": [
      "Epoch 4/10: 100%|██████████| 2814/2814 [00:23<00:00, 120.76it/s]\n"
     ]
    },
    {
     "name": "stdout",
     "output_type": "stream",
     "text": [
      "Epoch 4: Train MSE = 0.8809, Val MSE = 0.8439, Val RMSE = 0.9186\n"
     ]
    },
    {
     "name": "stderr",
     "output_type": "stream",
     "text": [
      "Epoch 5/10: 100%|██████████| 2814/2814 [00:23<00:00, 119.56it/s]\n"
     ]
    },
    {
     "name": "stdout",
     "output_type": "stream",
     "text": [
      "Epoch 5: Train MSE = 0.8610, Val MSE = 0.8344, Val RMSE = 0.9134\n"
     ]
    },
    {
     "name": "stderr",
     "output_type": "stream",
     "text": [
      "Epoch 6/10: 100%|██████████| 2814/2814 [00:22<00:00, 123.40it/s]\n"
     ]
    },
    {
     "name": "stdout",
     "output_type": "stream",
     "text": [
      "Epoch 6: Train MSE = 0.8496, Val MSE = 0.8332, Val RMSE = 0.9128\n"
     ]
    },
    {
     "name": "stderr",
     "output_type": "stream",
     "text": [
      "Epoch 7/10: 100%|██████████| 2814/2814 [00:22<00:00, 124.36it/s]\n"
     ]
    },
    {
     "name": "stdout",
     "output_type": "stream",
     "text": [
      "Epoch 7: Train MSE = 0.8366, Val MSE = 0.8372, Val RMSE = 0.9150\n"
     ]
    },
    {
     "name": "stderr",
     "output_type": "stream",
     "text": [
      "Epoch 8/10: 100%|██████████| 2814/2814 [00:23<00:00, 121.69it/s]\n"
     ]
    },
    {
     "name": "stdout",
     "output_type": "stream",
     "text": [
      "Epoch 8: Train MSE = 0.8246, Val MSE = 0.8435, Val RMSE = 0.9184\n"
     ]
    },
    {
     "name": "stderr",
     "output_type": "stream",
     "text": [
      "Epoch 9/10: 100%|██████████| 2814/2814 [00:23<00:00, 121.33it/s]\n"
     ]
    },
    {
     "name": "stdout",
     "output_type": "stream",
     "text": [
      "Epoch 9: Train MSE = 0.8110, Val MSE = 0.8455, Val RMSE = 0.9195\n"
     ]
    },
    {
     "name": "stderr",
     "output_type": "stream",
     "text": [
      "Epoch 10/10: 100%|██████████| 2814/2814 [00:23<00:00, 121.20it/s]\n"
     ]
    },
    {
     "name": "stdout",
     "output_type": "stream",
     "text": [
      "Epoch 10: Train MSE = 0.7963, Val MSE = 0.8669, Val RMSE = 0.9311\n"
     ]
    }
   ],
   "source": [
    "train_full_model(\n",
    "    model=full_model,\n",
    "    train_loader=train_loader,\n",
    "    val_loader=val_loader,\n",
    "    epochs=10,\n",
    "    lr=0.001,\n",
    "    device=device\n",
    ")\n"
   ]
  },
  {
   "cell_type": "code",
   "execution_count": 35,
   "metadata": {},
   "outputs": [
    {
     "name": "stdout",
     "output_type": "stream",
     "text": [
      "Test MSE: 0.8769, Test RMSE: 0.9364\n"
     ]
    }
   ],
   "source": [
    "def evaluate_full_model(model, test_loader, device='cpu'):\n",
    "    model.eval()\n",
    "    model.to(device)\n",
    "\n",
    "    all_preds = []\n",
    "    all_ratings = []\n",
    "\n",
    "    with torch.no_grad():\n",
    "        for user, item, gender, age, occ, genre_vec, rating in test_loader:\n",
    "            user, item = user.to(device), item.to(device)\n",
    "            gender, age, occ = gender.to(device), age.to(device), occ.to(device)\n",
    "            genre_vec = genre_vec.to(device)\n",
    "            rating = rating.to(device)\n",
    "\n",
    "            prediction = model(user, item, gender, age, occ, genre_vec)\n",
    "            all_preds.extend(prediction.cpu().numpy())\n",
    "            all_ratings.extend(rating.cpu().numpy())\n",
    "\n",
    "    all_preds = np.array(all_preds)\n",
    "    all_ratings = np.array(all_ratings)\n",
    "\n",
    "    mse = np.mean((all_preds - all_ratings) ** 2)\n",
    "    rmse = np.sqrt(mse)\n",
    "\n",
    "    print(f\"Test MSE: {mse:.4f}, Test RMSE: {rmse:.4f}\")\n",
    "    return all_preds, all_ratings\n",
    "\n",
    "# Ejecutar evaluación\n",
    "final_preds, final_truth = evaluate_full_model(full_model, test_loader, device)\n"
   ]
  },
  {
   "cell_type": "code",
   "execution_count": null,
   "metadata": {},
   "outputs": [
    {
     "data": {
      "image/png": "[encoded data removed]",
      "text/plain": [
       "<Figure size 800x600 with 1 Axes>"
      ]
     },
     "metadata": {},
     "output_type": "display_data"
    }
   ],
   "source": [
    "import matplotlib.pyplot as plt\n",
    "import seaborn as sns\n",
    "\n",
    "plt.figure(figsize=(8, 6))\n",
    "sns.scatterplot(x=hybrid_truth, y=hybrid_preds, alpha=0.3)\n",
    "plt.xlabel(\"Rating real\")\n",
    "plt.ylabel(\"Rating predicho (modelo híbrido)\")\n",
    "plt.title(\"Ratings reales vs predichos - Modelo Híbrido\")\n",
    "plt.grid(True)\n",
    "plt.show()\n"
   ]
  }
 ],
 "metadata": {
  "kernelspec": {
   "display_name": ".venv",
   "language": "python",
   "name": "python3"
  },
  "language_info": {
   "codemirror_mode": {
    "name": "ipython",
    "version": 3
   },
   "file_extension": ".py",
   "mimetype": "text/x-python",
   "name": "python",
   "nbconvert_exporter": "python",
   "pygments_lexer": "ipython3",
   "version": "3.12.3"
  }
 },
 "nbformat": 4,
 "nbformat_minor": 2
}
