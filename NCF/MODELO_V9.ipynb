{
 "cells": [
  {
   "cell_type": "code",
   "execution_count": 10,
   "metadata": {},
   "outputs": [],
   "source": [
    "import torch\n",
    "import torch.nn as nn\n",
    "from torch.utils.data import Dataset, DataLoader\n",
    "import torch.nn.functional as F\n",
    "import torch.optim as optim\n",
    "from tqdm import tqdm\n",
    "import numpy as np\n"
   ]
  },
  {
   "cell_type": "code",
   "execution_count": 1,
   "metadata": {},
   "outputs": [
    {
     "data": {
      "text/html": [
       "<div>\n",
       "<style scoped>\n",
       "    .dataframe tbody tr th:only-of-type {\n",
       "        vertical-align: middle;\n",
       "    }\n",
       "\n",
       "    .dataframe tbody tr th {\n",
       "        vertical-align: top;\n",
       "    }\n",
       "\n",
       "    .dataframe thead th {\n",
       "        text-align: right;\n",
       "    }\n",
       "</style>\n",
       "<table border=\"1\" class=\"dataframe\">\n",
       "  <thead>\n",
       "    <tr style=\"text-align: right;\">\n",
       "      <th></th>\n",
       "      <th>UserID</th>\n",
       "      <th>MovieID</th>\n",
       "      <th>Rating</th>\n",
       "      <th>Timestamp</th>\n",
       "    </tr>\n",
       "  </thead>\n",
       "  <tbody>\n",
       "    <tr>\n",
       "      <th>0</th>\n",
       "      <td>1</td>\n",
       "      <td>1193</td>\n",
       "      <td>5</td>\n",
       "      <td>978300760</td>\n",
       "    </tr>\n",
       "    <tr>\n",
       "      <th>1</th>\n",
       "      <td>1</td>\n",
       "      <td>661</td>\n",
       "      <td>3</td>\n",
       "      <td>978302109</td>\n",
       "    </tr>\n",
       "    <tr>\n",
       "      <th>2</th>\n",
       "      <td>1</td>\n",
       "      <td>914</td>\n",
       "      <td>3</td>\n",
       "      <td>978301968</td>\n",
       "    </tr>\n",
       "    <tr>\n",
       "      <th>3</th>\n",
       "      <td>1</td>\n",
       "      <td>3408</td>\n",
       "      <td>4</td>\n",
       "      <td>978300275</td>\n",
       "    </tr>\n",
       "    <tr>\n",
       "      <th>4</th>\n",
       "      <td>1</td>\n",
       "      <td>2355</td>\n",
       "      <td>5</td>\n",
       "      <td>978824291</td>\n",
       "    </tr>\n",
       "  </tbody>\n",
       "</table>\n",
       "</div>"
      ],
      "text/plain": [
       "   UserID  MovieID  Rating  Timestamp\n",
       "0       1     1193       5  978300760\n",
       "1       1      661       3  978302109\n",
       "2       1      914       3  978301968\n",
       "3       1     3408       4  978300275\n",
       "4       1     2355       5  978824291"
      ]
     },
     "execution_count": 1,
     "metadata": {},
     "output_type": "execute_result"
    }
   ],
   "source": [
    "# Librerías\n",
    "import pandas as pd\n",
    "import numpy as np\n",
    "\n",
    "\n",
    "movies_path = \"ml-1m/movies.dat\"\n",
    "ratings_path = \"ml-1m/ratings.dat\"\n",
    "users_path = \"ml-1m/users.dat\"\n",
    "\n",
    "\n",
    "# Carga de los datos\n",
    "users = pd.read_csv(users_path, sep=\"::\", engine=\"python\", names=[\"UserID\", \"Gender\", \"Age\", \"Occupation\", \"Zip-code\"], encoding=\"latin-1\")\n",
    "movies = pd.read_csv(movies_path, sep=\"::\", engine=\"python\", names=[\"MovieID\", \"Title\", \"Genres\"], encoding=\"latin-1\")\n",
    "ratings = pd.read_csv(ratings_path, sep=\"::\", engine=\"python\", names=[\"UserID\", \"MovieID\", \"Rating\", \"Timestamp\"], encoding=\"latin-1\")\n",
    "\n",
    "# Mostrar primeras filas\n",
    "ratings.head()\n",
    "\n"
   ]
  },
  {
   "cell_type": "code",
   "execution_count": 2,
   "metadata": {},
   "outputs": [
    {
     "data": {
      "text/plain": [
       "(6040, 3706)"
      ]
     },
     "execution_count": 2,
     "metadata": {},
     "output_type": "execute_result"
    }
   ],
   "source": [
    "from sklearn.preprocessing import LabelEncoder\n",
    "\n",
    "user_encoder = LabelEncoder()\n",
    "movie_encoder = LabelEncoder()\n",
    "\n",
    "ratings['user'] = user_encoder.fit_transform(ratings['UserID'])\n",
    "ratings['movie'] = movie_encoder.fit_transform(ratings['MovieID'])\n",
    "\n",
    "# Guardamos número de usuarios y películas únicos\n",
    "num_users = ratings['user'].nunique()\n",
    "num_movies = ratings['movie'].nunique()\n",
    "\n",
    "num_users, num_movies\n"
   ]
  },
  {
   "cell_type": "code",
   "execution_count": 3,
   "metadata": {},
   "outputs": [],
   "source": [
    "# Obtener lista única de géneros\n",
    "movies['Genres'] = movies['Genres'].str.split('|')\n",
    "all_genres = sorted(set(g for sublist in movies['Genres'] for g in sublist))\n",
    "genre_to_idx = {genre: idx for idx, genre in enumerate(all_genres)}\n",
    "\n",
    "# Crear codificación multi-hot para cada película\n",
    "def encode_genres(genres_list):\n",
    "    multi_hot = np.zeros(len(genre_to_idx), dtype=np.float32)\n",
    "    for genre in genres_list:\n",
    "        if genre in genre_to_idx:\n",
    "            multi_hot[genre_to_idx[genre]] = 1.0\n",
    "    return multi_hot\n",
    "\n",
    "movies['genre_vector'] = movies['Genres'].apply(encode_genres)\n"
   ]
  },
  {
   "cell_type": "code",
   "execution_count": 4,
   "metadata": {},
   "outputs": [
    {
     "name": "stdout",
     "output_type": "stream",
     "text": [
      "Géneros: ['F' 'M']\n",
      "Edades: [ 1 18 25 35 45 50 56]\n",
      "Ocupaciones: [ 0  1  2  3  4  5  6  7  8  9 10 11 12 13 14 15 16 17 18 19 20]\n"
     ]
    },
    {
     "data": {
      "text/html": [
       "<div>\n",
       "<style scoped>\n",
       "    .dataframe tbody tr th:only-of-type {\n",
       "        vertical-align: middle;\n",
       "    }\n",
       "\n",
       "    .dataframe tbody tr th {\n",
       "        vertical-align: top;\n",
       "    }\n",
       "\n",
       "    .dataframe thead th {\n",
       "        text-align: right;\n",
       "    }\n",
       "</style>\n",
       "<table border=\"1\" class=\"dataframe\">\n",
       "  <thead>\n",
       "    <tr style=\"text-align: right;\">\n",
       "      <th></th>\n",
       "      <th>user</th>\n",
       "      <th>movie</th>\n",
       "      <th>Rating</th>\n",
       "      <th>gender</th>\n",
       "      <th>age</th>\n",
       "      <th>occupation</th>\n",
       "    </tr>\n",
       "  </thead>\n",
       "  <tbody>\n",
       "    <tr>\n",
       "      <th>0</th>\n",
       "      <td>0</td>\n",
       "      <td>1104</td>\n",
       "      <td>5</td>\n",
       "      <td>0</td>\n",
       "      <td>0</td>\n",
       "      <td>10</td>\n",
       "    </tr>\n",
       "    <tr>\n",
       "      <th>1</th>\n",
       "      <td>0</td>\n",
       "      <td>639</td>\n",
       "      <td>3</td>\n",
       "      <td>0</td>\n",
       "      <td>0</td>\n",
       "      <td>10</td>\n",
       "    </tr>\n",
       "    <tr>\n",
       "      <th>2</th>\n",
       "      <td>0</td>\n",
       "      <td>853</td>\n",
       "      <td>3</td>\n",
       "      <td>0</td>\n",
       "      <td>0</td>\n",
       "      <td>10</td>\n",
       "    </tr>\n",
       "    <tr>\n",
       "      <th>3</th>\n",
       "      <td>0</td>\n",
       "      <td>3177</td>\n",
       "      <td>4</td>\n",
       "      <td>0</td>\n",
       "      <td>0</td>\n",
       "      <td>10</td>\n",
       "    </tr>\n",
       "    <tr>\n",
       "      <th>4</th>\n",
       "      <td>0</td>\n",
       "      <td>2162</td>\n",
       "      <td>5</td>\n",
       "      <td>0</td>\n",
       "      <td>0</td>\n",
       "      <td>10</td>\n",
       "    </tr>\n",
       "  </tbody>\n",
       "</table>\n",
       "</div>"
      ],
      "text/plain": [
       "   user  movie  Rating  gender  age  occupation\n",
       "0     0   1104       5       0    0          10\n",
       "1     0    639       3       0    0          10\n",
       "2     0    853       3       0    0          10\n",
       "3     0   3177       4       0    0          10\n",
       "4     0   2162       5       0    0          10"
      ]
     },
     "execution_count": 4,
     "metadata": {},
     "output_type": "execute_result"
    }
   ],
   "source": [
    "from sklearn.preprocessing import LabelEncoder\n",
    "\n",
    "# Fusionar ratings con info del usuario\n",
    "ratings_full = ratings.merge(users, on=\"UserID\")\n",
    "\n",
    "# Codificar gender (F/M → 0/1 por ejemplo)\n",
    "gender_encoder = LabelEncoder()\n",
    "ratings_full['gender'] = gender_encoder.fit_transform(ratings_full['Gender'])\n",
    "\n",
    "# Codificar age y occupation como categorías\n",
    "age_encoder = LabelEncoder()\n",
    "occ_encoder = LabelEncoder()\n",
    "\n",
    "ratings_full['age'] = age_encoder.fit_transform(ratings_full['Age'])\n",
    "ratings_full['occupation'] = occ_encoder.fit_transform(ratings_full['Occupation'])\n",
    "\n",
    "# Mostrar las clases para documentar\n",
    "print(\"Géneros:\", gender_encoder.classes_)\n",
    "print(\"Edades:\", age_encoder.classes_)\n",
    "print(\"Ocupaciones:\", occ_encoder.classes_)\n",
    "\n",
    "ratings_full[['user', 'movie', 'Rating', 'gender', 'age', 'occupation']].head()\n"
   ]
  },
  {
   "cell_type": "code",
   "execution_count": 5,
   "metadata": {},
   "outputs": [
    {
     "data": {
      "text/html": [
       "<div>\n",
       "<style scoped>\n",
       "    .dataframe tbody tr th:only-of-type {\n",
       "        vertical-align: middle;\n",
       "    }\n",
       "\n",
       "    .dataframe tbody tr th {\n",
       "        vertical-align: top;\n",
       "    }\n",
       "\n",
       "    .dataframe thead th {\n",
       "        text-align: right;\n",
       "    }\n",
       "</style>\n",
       "<table border=\"1\" class=\"dataframe\">\n",
       "  <thead>\n",
       "    <tr style=\"text-align: right;\">\n",
       "      <th></th>\n",
       "      <th>UserID</th>\n",
       "      <th>MovieID</th>\n",
       "      <th>Rating</th>\n",
       "      <th>Timestamp</th>\n",
       "      <th>user</th>\n",
       "      <th>movie</th>\n",
       "      <th>Gender</th>\n",
       "      <th>Age</th>\n",
       "      <th>Occupation</th>\n",
       "      <th>Zip-code</th>\n",
       "      <th>gender</th>\n",
       "      <th>age</th>\n",
       "      <th>occupation</th>\n",
       "      <th>genre_vector</th>\n",
       "    </tr>\n",
       "  </thead>\n",
       "  <tbody>\n",
       "    <tr>\n",
       "      <th>0</th>\n",
       "      <td>1</td>\n",
       "      <td>1193</td>\n",
       "      <td>5</td>\n",
       "      <td>978300760</td>\n",
       "      <td>0</td>\n",
       "      <td>1104</td>\n",
       "      <td>F</td>\n",
       "      <td>1</td>\n",
       "      <td>10</td>\n",
       "      <td>48067</td>\n",
       "      <td>0</td>\n",
       "      <td>0</td>\n",
       "      <td>10</td>\n",
       "      <td>[0.0, 0.0, 0.0, 0.0, 0.0, 0.0, 0.0, 1.0, 0.0, ...</td>\n",
       "    </tr>\n",
       "    <tr>\n",
       "      <th>1</th>\n",
       "      <td>1</td>\n",
       "      <td>661</td>\n",
       "      <td>3</td>\n",
       "      <td>978302109</td>\n",
       "      <td>0</td>\n",
       "      <td>639</td>\n",
       "      <td>F</td>\n",
       "      <td>1</td>\n",
       "      <td>10</td>\n",
       "      <td>48067</td>\n",
       "      <td>0</td>\n",
       "      <td>0</td>\n",
       "      <td>10</td>\n",
       "      <td>[0.0, 0.0, 1.0, 1.0, 0.0, 0.0, 0.0, 0.0, 0.0, ...</td>\n",
       "    </tr>\n",
       "    <tr>\n",
       "      <th>2</th>\n",
       "      <td>1</td>\n",
       "      <td>914</td>\n",
       "      <td>3</td>\n",
       "      <td>978301968</td>\n",
       "      <td>0</td>\n",
       "      <td>853</td>\n",
       "      <td>F</td>\n",
       "      <td>1</td>\n",
       "      <td>10</td>\n",
       "      <td>48067</td>\n",
       "      <td>0</td>\n",
       "      <td>0</td>\n",
       "      <td>10</td>\n",
       "      <td>[0.0, 0.0, 0.0, 0.0, 0.0, 0.0, 0.0, 0.0, 0.0, ...</td>\n",
       "    </tr>\n",
       "    <tr>\n",
       "      <th>3</th>\n",
       "      <td>1</td>\n",
       "      <td>3408</td>\n",
       "      <td>4</td>\n",
       "      <td>978300275</td>\n",
       "      <td>0</td>\n",
       "      <td>3177</td>\n",
       "      <td>F</td>\n",
       "      <td>1</td>\n",
       "      <td>10</td>\n",
       "      <td>48067</td>\n",
       "      <td>0</td>\n",
       "      <td>0</td>\n",
       "      <td>10</td>\n",
       "      <td>[0.0, 0.0, 0.0, 0.0, 0.0, 0.0, 0.0, 1.0, 0.0, ...</td>\n",
       "    </tr>\n",
       "    <tr>\n",
       "      <th>4</th>\n",
       "      <td>1</td>\n",
       "      <td>2355</td>\n",
       "      <td>5</td>\n",
       "      <td>978824291</td>\n",
       "      <td>0</td>\n",
       "      <td>2162</td>\n",
       "      <td>F</td>\n",
       "      <td>1</td>\n",
       "      <td>10</td>\n",
       "      <td>48067</td>\n",
       "      <td>0</td>\n",
       "      <td>0</td>\n",
       "      <td>10</td>\n",
       "      <td>[0.0, 0.0, 1.0, 1.0, 1.0, 0.0, 0.0, 0.0, 0.0, ...</td>\n",
       "    </tr>\n",
       "  </tbody>\n",
       "</table>\n",
       "</div>"
      ],
      "text/plain": [
       "   UserID  MovieID  Rating  Timestamp  user  movie Gender  Age  Occupation  \\\n",
       "0       1     1193       5  978300760     0   1104      F    1          10   \n",
       "1       1      661       3  978302109     0    639      F    1          10   \n",
       "2       1      914       3  978301968     0    853      F    1          10   \n",
       "3       1     3408       4  978300275     0   3177      F    1          10   \n",
       "4       1     2355       5  978824291     0   2162      F    1          10   \n",
       "\n",
       "  Zip-code  gender  age  occupation  \\\n",
       "0    48067       0    0          10   \n",
       "1    48067       0    0          10   \n",
       "2    48067       0    0          10   \n",
       "3    48067       0    0          10   \n",
       "4    48067       0    0          10   \n",
       "\n",
       "                                        genre_vector  \n",
       "0  [0.0, 0.0, 0.0, 0.0, 0.0, 0.0, 0.0, 1.0, 0.0, ...  \n",
       "1  [0.0, 0.0, 1.0, 1.0, 0.0, 0.0, 0.0, 0.0, 0.0, ...  \n",
       "2  [0.0, 0.0, 0.0, 0.0, 0.0, 0.0, 0.0, 0.0, 0.0, ...  \n",
       "3  [0.0, 0.0, 0.0, 0.0, 0.0, 0.0, 0.0, 1.0, 0.0, ...  \n",
       "4  [0.0, 0.0, 1.0, 1.0, 1.0, 0.0, 0.0, 0.0, 0.0, ...  "
      ]
     },
     "execution_count": 5,
     "metadata": {},
     "output_type": "execute_result"
    }
   ],
   "source": [
    "ratings_full = ratings_full.merge(movies[['MovieID', 'genre_vector']], on='MovieID')\n",
    "\n",
    "ratings_full.head()"
   ]
  },
  {
   "cell_type": "code",
   "execution_count": 6,
   "metadata": {},
   "outputs": [],
   "source": [
    "# Calcular media por usuario\n",
    "user_mean_rating = ratings_full.groupby('user')['Rating'].mean().to_dict()\n",
    "\n",
    "# Crear nueva columna con rating centrado\n",
    "ratings_full['rating_centered'] = ratings_full.apply(\n",
    "    lambda row: row['Rating'] - user_mean_rating[row['user']], axis=1\n",
    ")\n"
   ]
  },
  {
   "cell_type": "code",
   "execution_count": null,
   "metadata": {},
   "outputs": [],
   "source": [
    "import torch.nn as nn\n",
    "\n",
    "class FullHybridNCF_BN(nn.Module):\n",
    "    def __init__(self, num_users, num_items, num_genders, num_ages, num_occs, num_genres,\n",
    "                 embedding_dim=64, mlp_layers=[128, 16, 32], dropout=0.3):\n",
    "        super(FullHybridNCF_BN, self).__init__()\n",
    "\n",
    "        # Embeddings usuario-película\n",
    "        self.user_embedding_gmf = nn.Embedding(num_users, embedding_dim)\n",
    "        self.item_embedding_gmf = nn.Embedding(num_items, embedding_dim)\n",
    "\n",
    "        self.user_embedding_mlp = nn.Embedding(num_users, embedding_dim)\n",
    "        self.item_embedding_mlp = nn.Embedding(num_items, embedding_dim)\n",
    "\n",
    "        # Embeddings de metadata\n",
    "        self.gender_embedding = nn.Embedding(num_genders, 4)\n",
    "        self.age_embedding = nn.Embedding(num_ages, 4)\n",
    "        self.occ_embedding = nn.Embedding(num_occs, 4)\n",
    "\n",
    "        # Proyección de géneros (multi-hot → denso)\n",
    "        self.genre_dense = nn.Linear(num_genres, 8)\n",
    "\n",
    "        # MLP con BatchNorm\n",
    "        mlp_input_size = 2 * embedding_dim + 3 * 4 + 8\n",
    "        layers = []\n",
    "        for layer_size in mlp_layers:\n",
    "            layers.append(nn.Linear(mlp_input_size, layer_size))\n",
    "            layers.append(nn.BatchNorm1d(layer_size))\n",
    "            layers.append(nn.ReLU())\n",
    "            layers.append(nn.Dropout(dropout))\n",
    "            mlp_input_size = layer_size\n",
    "        self.mlp = nn.Sequential(*layers)\n",
    "\n",
    "        # Capa de salida\n",
    "        self.final_layer = nn.Linear(embedding_dim + mlp_layers[-1], 1)\n",
    "\n",
    "    def forward(self, user_ids, item_ids, gender_ids, age_ids, occ_ids, genre_vecs):\n",
    "        # GMF\n",
    "        gmf_user = self.user_embedding_gmf(user_ids)\n",
    "        gmf_item = self.item_embedding_gmf(item_ids)\n",
    "        gmf_output = gmf_user * gmf_item\n",
    "\n",
    "        # MLP\n",
    "        mlp_user = self.user_embedding_mlp(user_ids)\n",
    "        mlp_item = self.item_embedding_mlp(item_ids)\n",
    "        gender_emb = self.gender_embedding(gender_ids)\n",
    "        age_emb = self.age_embedding(age_ids)\n",
    "        occ_emb = self.occ_embedding(occ_ids)\n",
    "        genre_proj = self.genre_dense(genre_vecs)\n",
    "\n",
    "        mlp_input = torch.cat([mlp_user, mlp_item, gender_emb, age_emb, occ_emb, genre_proj], dim=-1)\n",
    "        mlp_output = self.mlp(mlp_input)\n",
    "\n",
    "        # Concatenar GMF + MLP\n",
    "        final_input = torch.cat([gmf_output, mlp_output], dim=-1)\n",
    "        output = self.final_layer(final_input)\n",
    "        return output.squeeze()\n"
   ]
  },
  {
   "cell_type": "code",
   "execution_count": 8,
   "metadata": {},
   "outputs": [],
   "source": [
    "from torch.utils.data import Dataset, DataLoader\n",
    "\n",
    "class CenteredHybridDataset(Dataset):\n",
    "    def __init__(self, df):\n",
    "        self.users = torch.tensor(df['user'].values, dtype=torch.long)\n",
    "        self.items = torch.tensor(df['movie'].values, dtype=torch.long)\n",
    "        self.centered_ratings = torch.tensor(df['rating_centered'].values, dtype=torch.float)\n",
    "        self.genders = torch.tensor(df['gender'].values, dtype=torch.long)\n",
    "        self.ages = torch.tensor(df['age'].values, dtype=torch.long)\n",
    "        self.occs = torch.tensor(df['occupation'].values, dtype=torch.long)\n",
    "        self.genres = torch.tensor(np.stack(df['genre_vector'].values), dtype=torch.float)\n",
    "        self.user_means = torch.tensor(df['user'].map(user_mean_rating).values, dtype=torch.float)\n",
    "\n",
    "    def __len__(self):\n",
    "        return len(self.centered_ratings)\n",
    "\n",
    "    def __getitem__(self, idx):\n",
    "        return (\n",
    "            self.users[idx],\n",
    "            self.items[idx],\n",
    "            self.genders[idx],\n",
    "            self.ages[idx],\n",
    "            self.occs[idx],\n",
    "            self.genres[idx],\n",
    "            self.centered_ratings[idx],\n",
    "            self.user_means[idx]\n",
    "        )\n"
   ]
  },
  {
   "cell_type": "code",
   "execution_count": 11,
   "metadata": {},
   "outputs": [],
   "source": [
    "from sklearn.model_selection import train_test_split\n",
    "\n",
    "# Dividir de nuevo con ratings centrados\n",
    "train_df, test_df = train_test_split(ratings_full, test_size=0.2, random_state=42)\n",
    "train_df, val_df = train_test_split(train_df, test_size=0.1, random_state=42)\n",
    "\n",
    "# Datasets y loaders con rating centrado\n",
    "train_dataset = CenteredHybridDataset(train_df)\n",
    "val_dataset = CenteredHybridDataset(val_df)\n",
    "\n",
    "train_loader = DataLoader(train_dataset, batch_size=256, shuffle=True)\n",
    "val_loader = DataLoader(val_dataset, batch_size=256)\n",
    "\n",
    "\n"
   ]
  },
  {
   "cell_type": "code",
   "execution_count": 20,
   "metadata": {},
   "outputs": [],
   "source": [
    "def train_centered_model(model, train_loader, val_loader, epochs=10, lr=0.001, device='cpu', patience=5):\n",
    "    model.to(device)\n",
    "    optimizer = optim.Adam(model.parameters(), lr=lr)\n",
    "    criterion = nn.MSELoss()\n",
    "\n",
    "    best_val_loss = float('inf')\n",
    "    epochs_without_improvement = 0\n",
    "\n",
    "    for epoch in range(epochs):\n",
    "        model.train()\n",
    "        train_losses = []\n",
    "\n",
    "        for user, item, gender, age, occ, genre_vec, centered_rating, user_mean in tqdm(train_loader, desc=f\"Epoch {epoch+1}/{epochs}\"):\n",
    "            user, item = user.to(device), item.to(device)\n",
    "            gender, age, occ = gender.to(device), age.to(device), occ.to(device)\n",
    "            genre_vec = genre_vec.to(device)\n",
    "            centered_rating = centered_rating.to(device)\n",
    "            user_mean = user_mean.to(device)\n",
    "\n",
    "            optimizer.zero_grad()\n",
    "            pred_deviation = model(user, item, gender, age, occ, genre_vec)\n",
    "            pred_rating = pred_deviation + user_mean\n",
    "            true_rating = centered_rating + user_mean\n",
    "            loss = criterion(pred_rating, true_rating)\n",
    "\n",
    "            loss.backward()\n",
    "            optimizer.step()\n",
    "            train_losses.append(loss.item())\n",
    "\n",
    "        # Validación\n",
    "        model.eval()\n",
    "        val_losses = []\n",
    "        with torch.no_grad():\n",
    "            for user, item, gender, age, occ, genre_vec, centered_rating, user_mean in val_loader:\n",
    "                user, item = user.to(device), item.to(device)\n",
    "                gender, age, occ = gender.to(device), age.to(device), occ.to(device)\n",
    "                genre_vec = genre_vec.to(device)\n",
    "                centered_rating = centered_rating.to(device)\n",
    "                user_mean = user_mean.to(device)\n",
    "\n",
    "                pred_deviation = model(user, item, gender, age, occ, genre_vec)\n",
    "                pred_rating = pred_deviation + user_mean\n",
    "                true_rating = centered_rating + user_mean\n",
    "                val_loss = criterion(pred_rating, true_rating)\n",
    "                val_losses.append(val_loss.item())\n",
    "\n",
    "        avg_train_loss = np.mean(train_losses)\n",
    "        avg_val_loss = np.mean(val_losses)\n",
    "        val_rmse = np.sqrt(avg_val_loss)\n",
    "\n",
    "        print(f\"Epoch {epoch+1}: Train MSE = {avg_train_loss:.4f}, Val MSE = {avg_val_loss:.4f}, Val RMSE = {val_rmse:.4f}\")\n",
    "\n",
    "        # Early Stopping\n",
    "        if avg_val_loss < best_val_loss:\n",
    "            best_val_loss = avg_val_loss\n",
    "            epochs_without_improvement = 0\n",
    "            torch.save(model.state_dict(), \"v9_best_model.pth\")\n",
    "            print(\"✅ Mejor modelo guardado.\")\n",
    "        else:\n",
    "            epochs_without_improvement += 1\n",
    "            if epochs_without_improvement >= patience:\n",
    "                print(\"🛑 Early stopping activado. No hay mejora en la validación.\")\n",
    "                break\n",
    "\n",
    "    print(\"🎯 Entrenamiento finalizado.\")\n"
   ]
  },
  {
   "cell_type": "code",
   "execution_count": 13,
   "metadata": {},
   "outputs": [],
   "source": [
    "import torch\n",
    "\n",
    "device = torch.device(\"cuda\" if torch.cuda.is_available() else \"cpu\")\n"
   ]
  },
  {
   "cell_type": "code",
   "execution_count": 19,
   "metadata": {},
   "outputs": [],
   "source": [
    "# Parámetros de dimensiones\n",
    "num_genres = len(genre_to_idx)\n",
    "\n",
    "# Inicialización del modelo completo\n",
    "full_model = FullHybridNCF_BN(\n",
    "    num_users=num_users,\n",
    "    num_items=num_movies,\n",
    "    num_genders=ratings_full['gender'].nunique(),\n",
    "    num_ages=ratings_full['age'].nunique(),\n",
    "    num_occs=ratings_full['occupation'].nunique(),\n",
    "    num_genres=num_genres,\n",
    "    embedding_dim=64,\n",
    "    mlp_layers=[128, 16, 32],\n",
    "    dropout=0.12174914809192425\n",
    ").to(device)\n",
    "\n",
    "\n"
   ]
  },
  {
   "cell_type": "markdown",
   "metadata": {},
   "source": [
    "Mejores hiperparámetros:\n",
    "{'embedding_dim': 64, \n",
    "'dropout': 0.12174914809192425, \n",
    "'lr': 0.009686775467334081, \n",
    "'hidden_1': 128, \n",
    "'hidden_2': 16, \n",
    "'hidden_3': 32\n",
    "}\n",
    "Mejor Val RMSE: 0.8821"
   ]
  },
  {
   "cell_type": "code",
   "execution_count": 21,
   "metadata": {},
   "outputs": [
    {
     "name": "stderr",
     "output_type": "stream",
     "text": [
      "Epoch 1/10: 100%|██████████| 2814/2814 [00:27<00:00, 102.80it/s]\n"
     ]
    },
    {
     "name": "stdout",
     "output_type": "stream",
     "text": [
      "Epoch 1: Train MSE = 0.9400, Val MSE = 0.8638, Val RMSE = 0.9294\n",
      "✅ Mejor modelo guardado.\n"
     ]
    },
    {
     "name": "stderr",
     "output_type": "stream",
     "text": [
      "Epoch 2/10: 100%|██████████| 2814/2814 [00:26<00:00, 107.96it/s]\n"
     ]
    },
    {
     "name": "stdout",
     "output_type": "stream",
     "text": [
      "Epoch 2: Train MSE = 0.8548, Val MSE = 0.8343, Val RMSE = 0.9134\n",
      "✅ Mejor modelo guardado.\n"
     ]
    },
    {
     "name": "stderr",
     "output_type": "stream",
     "text": [
      "Epoch 3/10: 100%|██████████| 2814/2814 [00:27<00:00, 102.43it/s]\n"
     ]
    },
    {
     "name": "stdout",
     "output_type": "stream",
     "text": [
      "Epoch 3: Train MSE = 0.8207, Val MSE = 0.8140, Val RMSE = 0.9022\n",
      "✅ Mejor modelo guardado.\n"
     ]
    },
    {
     "name": "stderr",
     "output_type": "stream",
     "text": [
      "Epoch 4/10: 100%|██████████| 2814/2814 [00:27<00:00, 103.30it/s]\n"
     ]
    },
    {
     "name": "stdout",
     "output_type": "stream",
     "text": [
      "Epoch 4: Train MSE = 0.7987, Val MSE = 0.8103, Val RMSE = 0.9001\n",
      "✅ Mejor modelo guardado.\n"
     ]
    },
    {
     "name": "stderr",
     "output_type": "stream",
     "text": [
      "Epoch 5/10: 100%|██████████| 2814/2814 [00:27<00:00, 100.70it/s]\n"
     ]
    },
    {
     "name": "stdout",
     "output_type": "stream",
     "text": [
      "Epoch 5: Train MSE = 0.7809, Val MSE = 0.8073, Val RMSE = 0.8985\n",
      "✅ Mejor modelo guardado.\n"
     ]
    },
    {
     "name": "stderr",
     "output_type": "stream",
     "text": [
      "Epoch 6/10: 100%|██████████| 2814/2814 [00:28<00:00, 99.46it/s] \n"
     ]
    },
    {
     "name": "stdout",
     "output_type": "stream",
     "text": [
      "Epoch 6: Train MSE = 0.7629, Val MSE = 0.8075, Val RMSE = 0.8986\n"
     ]
    },
    {
     "name": "stderr",
     "output_type": "stream",
     "text": [
      "Epoch 7/10: 100%|██████████| 2814/2814 [00:27<00:00, 101.82it/s]\n"
     ]
    },
    {
     "name": "stdout",
     "output_type": "stream",
     "text": [
      "Epoch 7: Train MSE = 0.7422, Val MSE = 0.8229, Val RMSE = 0.9072\n"
     ]
    },
    {
     "name": "stderr",
     "output_type": "stream",
     "text": [
      "Epoch 8/10: 100%|██████████| 2814/2814 [00:28<00:00, 97.43it/s] \n"
     ]
    },
    {
     "name": "stdout",
     "output_type": "stream",
     "text": [
      "Epoch 8: Train MSE = 0.7184, Val MSE = 0.8320, Val RMSE = 0.9122\n"
     ]
    },
    {
     "name": "stderr",
     "output_type": "stream",
     "text": [
      "Epoch 9/10: 100%|██████████| 2814/2814 [00:28<00:00, 99.00it/s] \n"
     ]
    },
    {
     "name": "stdout",
     "output_type": "stream",
     "text": [
      "Epoch 9: Train MSE = 0.6923, Val MSE = 0.8389, Val RMSE = 0.9159\n"
     ]
    },
    {
     "name": "stderr",
     "output_type": "stream",
     "text": [
      "Epoch 10/10: 100%|██████████| 2814/2814 [00:28<00:00, 98.73it/s] \n"
     ]
    },
    {
     "name": "stdout",
     "output_type": "stream",
     "text": [
      "Epoch 10: Train MSE = 0.6647, Val MSE = 0.8587, Val RMSE = 0.9266\n",
      "🛑 Early stopping activado. No hay mejora en la validación.\n",
      "🎯 Entrenamiento finalizado.\n"
     ]
    }
   ],
   "source": [
    "# Reutilizamos el modelo FullHybridNCF\n",
    "train_centered_model(full_model, train_loader, val_loader, epochs=10, lr=0.001, device=device)\n"
   ]
  },
  {
   "cell_type": "code",
   "execution_count": 24,
   "metadata": {},
   "outputs": [
    {
     "data": {
      "text/plain": [
       "FullHybridNCF_BN(\n",
       "  (user_embedding_gmf): Embedding(6040, 64)\n",
       "  (item_embedding_gmf): Embedding(3706, 64)\n",
       "  (user_embedding_mlp): Embedding(6040, 64)\n",
       "  (item_embedding_mlp): Embedding(3706, 64)\n",
       "  (gender_embedding): Embedding(2, 4)\n",
       "  (age_embedding): Embedding(7, 4)\n",
       "  (occ_embedding): Embedding(21, 4)\n",
       "  (genre_dense): Linear(in_features=18, out_features=8, bias=True)\n",
       "  (mlp): Sequential(\n",
       "    (0): Linear(in_features=148, out_features=128, bias=True)\n",
       "    (1): BatchNorm1d(128, eps=1e-05, momentum=0.1, affine=True, track_running_stats=True)\n",
       "    (2): ReLU()\n",
       "    (3): Dropout(p=0.12174914809192425, inplace=False)\n",
       "    (4): Linear(in_features=128, out_features=16, bias=True)\n",
       "    (5): BatchNorm1d(16, eps=1e-05, momentum=0.1, affine=True, track_running_stats=True)\n",
       "    (6): ReLU()\n",
       "    (7): Dropout(p=0.12174914809192425, inplace=False)\n",
       "    (8): Linear(in_features=16, out_features=32, bias=True)\n",
       "    (9): BatchNorm1d(32, eps=1e-05, momentum=0.1, affine=True, track_running_stats=True)\n",
       "    (10): ReLU()\n",
       "    (11): Dropout(p=0.12174914809192425, inplace=False)\n",
       "  )\n",
       "  (final_layer): Linear(in_features=96, out_features=1, bias=True)\n",
       ")"
      ]
     },
     "execution_count": 24,
     "metadata": {},
     "output_type": "execute_result"
    }
   ],
   "source": [
    "#load best model\n",
    "full_model.load_state_dict(torch.load(\"v9_best_model.pth\"))\n",
    "full_model.eval()"
   ]
  },
  {
   "cell_type": "code",
   "execution_count": 15,
   "metadata": {},
   "outputs": [],
   "source": [
    "# Dataset para test con ratings normalizados\n",
    "test_dataset = CenteredHybridDataset(test_df)\n",
    "test_loader = DataLoader(test_dataset, batch_size=256)\n"
   ]
  },
  {
   "cell_type": "code",
   "execution_count": 16,
   "metadata": {},
   "outputs": [
    {
     "name": "stderr",
     "output_type": "stream",
     "text": [
      "/home/hjasi/Documentos/DeepLearning/.venv/lib/python3.12/site-packages/tqdm/auto.py:21: TqdmWarning: IProgress not found. Please update jupyter and ipywidgets. See https://ipywidgets.readthedocs.io/en/stable/user_install.html\n",
      "  from .autonotebook import tqdm as notebook_tqdm\n"
     ]
    }
   ],
   "source": [
    "import optuna\n",
    "import torch.nn.functional as F\n",
    "from torch.nn import MSELoss\n",
    "from tqdm import tqdm\n",
    "\n",
    "def objective(trial):\n",
    "    # Hiperparámetros a optimizar\n",
    "    embedding_dim = trial.suggest_categorical(\"embedding_dim\", [32, 64, 128, 256])\n",
    "    dropout = trial.suggest_float(\"dropout\", 0.1, 0.5)\n",
    "    lr = trial.suggest_float(\"lr\", 1e-4, 1e-2, log=True)\n",
    "    hidden_1 = trial.suggest_categorical(\"hidden_1\", [128, 64, 32])\n",
    "    hidden_2 = trial.suggest_categorical(\"hidden_2\", [64, 32, 16])\n",
    "    hidden_3 = trial.suggest_categorical(\"hidden_3\", [32, 16, 8])\n",
    "    mlp_layers = [hidden_1, hidden_2, hidden_3]\n",
    "\n",
    "    # Modelo\n",
    "    model = FullHybridNCF_BN(\n",
    "        num_users=num_users,\n",
    "        num_items=num_movies,\n",
    "        num_genders=ratings_full['gender'].nunique(),\n",
    "        num_ages=ratings_full['age'].nunique(),\n",
    "        num_occs=ratings_full['occupation'].nunique(),\n",
    "        num_genres=len(genre_to_idx),\n",
    "        embedding_dim=embedding_dim,\n",
    "        mlp_layers=mlp_layers,\n",
    "        dropout=dropout\n",
    "    ).to(device)\n",
    "\n",
    "    optimizer = torch.optim.Adam(model.parameters(), lr=lr)\n",
    "    criterion = MSELoss()\n",
    "\n",
    "    # Entrenamiento breve (por ejemplo 3 épocas para eficiencia)\n",
    "    for epoch in range(3):\n",
    "        model.train()\n",
    "        for user, item, gender, age, occ, genre_vec, centered_rating, user_mean in train_loader:\n",
    "            user, item = user.to(device), item.to(device)\n",
    "            gender, age, occ = gender.to(device), age.to(device), occ.to(device)\n",
    "            genre_vec = genre_vec.to(device)\n",
    "            centered_rating = centered_rating.to(device)\n",
    "            user_mean = user_mean.to(device)\n",
    "\n",
    "            optimizer.zero_grad()\n",
    "            pred_deviation = model(user, item, gender, age, occ, genre_vec)\n",
    "            pred_rating = pred_deviation + user_mean\n",
    "            true_rating = centered_rating + user_mean\n",
    "            loss = criterion(pred_rating, true_rating)\n",
    "            loss.backward()\n",
    "            optimizer.step()\n",
    "\n",
    "    # Validación RMSE real\n",
    "    model.eval()\n",
    "    val_losses = []\n",
    "    with torch.no_grad():\n",
    "        for user, item, gender, age, occ, genre_vec, centered_rating, user_mean in val_loader:\n",
    "            user, item = user.to(device), item.to(device)\n",
    "            gender, age, occ = gender.to(device), age.to(device), occ.to(device)\n",
    "            genre_vec = genre_vec.to(device)\n",
    "            centered_rating = centered_rating.to(device)\n",
    "            user_mean = user_mean.to(device)\n",
    "\n",
    "            pred_deviation = model(user, item, gender, age, occ, genre_vec)\n",
    "            pred_rating = pred_deviation + user_mean\n",
    "            true_rating = centered_rating + user_mean\n",
    "            mse = F.mse_loss(pred_rating, true_rating, reduction='mean').item()\n",
    "            val_losses.append(mse)\n",
    "\n",
    "    return np.sqrt(np.mean(val_losses))  # Val RMSE\n"
   ]
  },
  {
   "cell_type": "code",
   "execution_count": 17,
   "metadata": {},
   "outputs": [
    {
     "name": "stderr",
     "output_type": "stream",
     "text": [
      "[I 2025-04-06 11:21:14,805] A new study created in memory with name: no-name-638da2ad-ea21-485c-814a-1c5bad16a08f\n",
      "[I 2025-04-06 11:22:36,994] Trial 0 finished with value: 0.9147953333171137 and parameters: {'embedding_dim': 128, 'dropout': 0.3126001784669892, 'lr': 0.0004158338910806446, 'hidden_1': 64, 'hidden_2': 64, 'hidden_3': 8}. Best is trial 0 with value: 0.9147953333171137.\n",
      "[I 2025-04-06 11:23:59,802] Trial 1 finished with value: 0.9012294176749325 and parameters: {'embedding_dim': 32, 'dropout': 0.1848550390749415, 'lr': 0.001535131268699841, 'hidden_1': 32, 'hidden_2': 32, 'hidden_3': 8}. Best is trial 1 with value: 0.9012294176749325.\n",
      "[I 2025-04-06 11:25:21,912] Trial 2 finished with value: 0.9445262887121724 and parameters: {'embedding_dim': 128, 'dropout': 0.3724439061768585, 'lr': 0.00012221457053931107, 'hidden_1': 128, 'hidden_2': 64, 'hidden_3': 32}. Best is trial 1 with value: 0.9012294176749325.\n",
      "[I 2025-04-06 11:26:41,299] Trial 3 finished with value: 0.9000528549371292 and parameters: {'embedding_dim': 256, 'dropout': 0.16378031494053236, 'lr': 0.0017645460090561177, 'hidden_1': 32, 'hidden_2': 32, 'hidden_3': 8}. Best is trial 3 with value: 0.9000528549371292.\n",
      "[I 2025-04-06 11:28:04,024] Trial 4 finished with value: 0.8989239387529007 and parameters: {'embedding_dim': 64, 'dropout': 0.3289150219724516, 'lr': 0.0025899872843267225, 'hidden_1': 64, 'hidden_2': 32, 'hidden_3': 8}. Best is trial 4 with value: 0.8989239387529007.\n",
      "[I 2025-04-06 11:29:24,398] Trial 5 finished with value: 0.9179914391686417 and parameters: {'embedding_dim': 32, 'dropout': 0.4676932484195764, 'lr': 0.0011366166444263222, 'hidden_1': 32, 'hidden_2': 16, 'hidden_3': 16}. Best is trial 4 with value: 0.8989239387529007.\n",
      "[I 2025-04-06 11:30:44,927] Trial 6 finished with value: 0.9572903277157914 and parameters: {'embedding_dim': 64, 'dropout': 0.2951614097314563, 'lr': 0.00011651696003352461, 'hidden_1': 128, 'hidden_2': 64, 'hidden_3': 32}. Best is trial 4 with value: 0.8989239387529007.\n",
      "[I 2025-04-06 11:32:06,239] Trial 7 finished with value: 0.9468459477500446 and parameters: {'embedding_dim': 128, 'dropout': 0.2638276518775067, 'lr': 0.00010144519143979677, 'hidden_1': 128, 'hidden_2': 16, 'hidden_3': 8}. Best is trial 4 with value: 0.8989239387529007.\n",
      "[I 2025-04-06 11:33:28,771] Trial 8 finished with value: 0.8943086725608984 and parameters: {'embedding_dim': 64, 'dropout': 0.2699160706685938, 'lr': 0.002681030958422509, 'hidden_1': 32, 'hidden_2': 64, 'hidden_3': 16}. Best is trial 8 with value: 0.8943086725608984.\n",
      "[I 2025-04-06 11:34:50,996] Trial 9 finished with value: 0.9143055040499554 and parameters: {'embedding_dim': 128, 'dropout': 0.3042245897833, 'lr': 0.00787229153636781, 'hidden_1': 64, 'hidden_2': 16, 'hidden_3': 8}. Best is trial 8 with value: 0.8943086725608984.\n",
      "[I 2025-04-06 11:36:12,009] Trial 10 finished with value: 0.9070085896721721 and parameters: {'embedding_dim': 64, 'dropout': 0.4281295484127927, 'lr': 0.0076518994284190565, 'hidden_1': 32, 'hidden_2': 64, 'hidden_3': 16}. Best is trial 8 with value: 0.8943086725608984.\n",
      "[I 2025-04-06 11:37:33,759] Trial 11 finished with value: 0.891931886725944 and parameters: {'embedding_dim': 64, 'dropout': 0.22101018134776748, 'lr': 0.003363001526894853, 'hidden_1': 64, 'hidden_2': 32, 'hidden_3': 16}. Best is trial 11 with value: 0.891931886725944.\n",
      "[I 2025-04-06 11:38:54,586] Trial 12 finished with value: 0.8943559783655247 and parameters: {'embedding_dim': 64, 'dropout': 0.20964364640017272, 'lr': 0.003677764833650557, 'hidden_1': 64, 'hidden_2': 32, 'hidden_3': 16}. Best is trial 11 with value: 0.891931886725944.\n",
      "[I 2025-04-06 11:40:15,393] Trial 13 finished with value: 0.9190512976558001 and parameters: {'embedding_dim': 64, 'dropout': 0.10054850330318174, 'lr': 0.000446120455518023, 'hidden_1': 64, 'hidden_2': 32, 'hidden_3': 16}. Best is trial 11 with value: 0.891931886725944.\n",
      "[I 2025-04-06 11:41:44,071] Trial 14 finished with value: 0.9070337594606401 and parameters: {'embedding_dim': 256, 'dropout': 0.24277133862622036, 'lr': 0.00410747282795112, 'hidden_1': 32, 'hidden_2': 64, 'hidden_3': 16}. Best is trial 11 with value: 0.891931886725944.\n",
      "[I 2025-04-06 11:43:24,897] Trial 15 finished with value: 0.9072600740497435 and parameters: {'embedding_dim': 64, 'dropout': 0.12915960991776665, 'lr': 0.0007377649568090569, 'hidden_1': 32, 'hidden_2': 32, 'hidden_3': 16}. Best is trial 11 with value: 0.891931886725944.\n",
      "[I 2025-04-06 11:45:06,960] Trial 16 finished with value: 0.8901973434424717 and parameters: {'embedding_dim': 64, 'dropout': 0.23474836332163185, 'lr': 0.004621634526790817, 'hidden_1': 64, 'hidden_2': 64, 'hidden_3': 16}. Best is trial 16 with value: 0.8901973434424717.\n",
      "[I 2025-04-06 11:46:42,511] Trial 17 finished with value: 0.8843552910911294 and parameters: {'embedding_dim': 64, 'dropout': 0.21428171746599292, 'lr': 0.0056957739421094975, 'hidden_1': 64, 'hidden_2': 64, 'hidden_3': 16}. Best is trial 17 with value: 0.8843552910911294.\n",
      "[I 2025-04-06 11:48:04,270] Trial 18 finished with value: 0.8926395065504029 and parameters: {'embedding_dim': 32, 'dropout': 0.36127707092682443, 'lr': 0.00946787865468106, 'hidden_1': 64, 'hidden_2': 64, 'hidden_3': 32}. Best is trial 17 with value: 0.8843552910911294.\n",
      "[I 2025-04-06 11:49:24,897] Trial 19 finished with value: 0.9087283408572331 and parameters: {'embedding_dim': 256, 'dropout': 0.16687496495932935, 'lr': 0.005709100521505864, 'hidden_1': 64, 'hidden_2': 64, 'hidden_3': 16}. Best is trial 17 with value: 0.8843552910911294.\n",
      "[I 2025-04-06 11:50:45,937] Trial 20 finished with value: 0.8895411838640737 and parameters: {'embedding_dim': 64, 'dropout': 0.20679428358127025, 'lr': 0.005109196189254514, 'hidden_1': 64, 'hidden_2': 64, 'hidden_3': 16}. Best is trial 17 with value: 0.8843552910911294.\n",
      "[I 2025-04-06 11:52:07,636] Trial 21 finished with value: 0.8940457636107875 and parameters: {'embedding_dim': 64, 'dropout': 0.20990871854551815, 'lr': 0.005572299040498257, 'hidden_1': 64, 'hidden_2': 64, 'hidden_3': 16}. Best is trial 17 with value: 0.8843552910911294.\n",
      "[I 2025-04-06 11:53:27,641] Trial 22 finished with value: 0.8839029790825649 and parameters: {'embedding_dim': 64, 'dropout': 0.1464454108329552, 'lr': 0.005141044743021017, 'hidden_1': 64, 'hidden_2': 64, 'hidden_3': 16}. Best is trial 22 with value: 0.8839029790825649.\n",
      "[I 2025-04-06 11:54:50,321] Trial 23 finished with value: 0.8951404130771466 and parameters: {'embedding_dim': 64, 'dropout': 0.13311591144317406, 'lr': 0.0020808772352062135, 'hidden_1': 64, 'hidden_2': 64, 'hidden_3': 16}. Best is trial 22 with value: 0.8839029790825649.\n",
      "[I 2025-04-06 11:56:30,294] Trial 24 finished with value: 0.8858664637579389 and parameters: {'embedding_dim': 64, 'dropout': 0.18231715484782535, 'lr': 0.0065743589754661816, 'hidden_1': 64, 'hidden_2': 64, 'hidden_3': 16}. Best is trial 22 with value: 0.8839029790825649.\n",
      "[I 2025-04-06 11:58:18,350] Trial 25 finished with value: 0.8838402108359491 and parameters: {'embedding_dim': 64, 'dropout': 0.138477656142278, 'lr': 0.007593067370584417, 'hidden_1': 64, 'hidden_2': 64, 'hidden_3': 32}. Best is trial 25 with value: 0.8838402108359491.\n",
      "[I 2025-04-06 12:00:08,431] Trial 26 finished with value: 0.8821360294580075 and parameters: {'embedding_dim': 64, 'dropout': 0.12174914809192425, 'lr': 0.009686775467334081, 'hidden_1': 128, 'hidden_2': 16, 'hidden_3': 32}. Best is trial 26 with value: 0.8821360294580075.\n",
      "[I 2025-04-06 12:01:58,626] Trial 27 finished with value: 0.9186318233904677 and parameters: {'embedding_dim': 256, 'dropout': 0.11179185300640078, 'lr': 0.009822218144229431, 'hidden_1': 128, 'hidden_2': 16, 'hidden_3': 32}. Best is trial 26 with value: 0.8821360294580075.\n",
      "[I 2025-04-06 12:03:46,209] Trial 28 finished with value: 0.8941776269549256 and parameters: {'embedding_dim': 32, 'dropout': 0.15489187636564056, 'lr': 0.0027951922261937566, 'hidden_1': 128, 'hidden_2': 16, 'hidden_3': 32}. Best is trial 26 with value: 0.8821360294580075.\n",
      "[I 2025-04-06 12:05:32,236] Trial 29 finished with value: 0.9240853347390907 and parameters: {'embedding_dim': 128, 'dropout': 0.12977846668920875, 'lr': 0.00018988945567508634, 'hidden_1': 128, 'hidden_2': 16, 'hidden_3': 32}. Best is trial 26 with value: 0.8821360294580075.\n"
     ]
    }
   ],
   "source": [
    "study = optuna.create_study(direction=\"minimize\")\n",
    "study.optimize(objective, n_trials=30)  # puedes aumentar a 50–100 si tienes tiempo\n"
   ]
  },
  {
   "cell_type": "code",
   "execution_count": 18,
   "metadata": {},
   "outputs": [
    {
     "name": "stdout",
     "output_type": "stream",
     "text": [
      "Mejores hiperparámetros:\n",
      "{'embedding_dim': 64, 'dropout': 0.12174914809192425, 'lr': 0.009686775467334081, 'hidden_1': 128, 'hidden_2': 16, 'hidden_3': 32}\n",
      "Mejor Val RMSE: 0.8821\n"
     ]
    }
   ],
   "source": [
    "print(\"Mejores hiperparámetros:\")\n",
    "print(study.best_params)\n",
    "print(f\"Mejor Val RMSE: {study.best_value:.4f}\")\n"
   ]
  },
  {
   "cell_type": "code",
   "execution_count": 22,
   "metadata": {},
   "outputs": [],
   "source": [
    "def evaluate_centered_model(model, test_loader, device='cpu'):\n",
    "    model.eval()\n",
    "    model.to(device)\n",
    "\n",
    "    all_preds = []\n",
    "    all_true = []\n",
    "\n",
    "    with torch.no_grad():\n",
    "        for user, item, gender, age, occ, genre_vec, centered_rating, user_mean in test_loader:\n",
    "            user, item = user.to(device), item.to(device)\n",
    "            gender, age, occ = gender.to(device), age.to(device), occ.to(device)\n",
    "            genre_vec = genre_vec.to(device)\n",
    "            user_mean = user_mean.to(device)\n",
    "            centered_rating = centered_rating.to(device)\n",
    "\n",
    "            pred_deviation = model(user, item, gender, age, occ, genre_vec)\n",
    "            pred_rating = pred_deviation + user_mean\n",
    "            true_rating = centered_rating + user_mean\n",
    "\n",
    "            all_preds.extend(pred_rating.cpu().numpy())\n",
    "            all_true.extend(true_rating.cpu().numpy())\n",
    "\n",
    "    all_preds = np.array(all_preds)\n",
    "    all_true = np.array(all_true)\n",
    "\n",
    "    mse = np.mean((all_preds - all_true) ** 2)\n",
    "    rmse = np.sqrt(mse)\n",
    "    print(f\"Test RMSE: {rmse:.4f}\")\n",
    "    return rmse\n"
   ]
  },
  {
   "cell_type": "code",
   "execution_count": 25,
   "metadata": {},
   "outputs": [
    {
     "name": "stdout",
     "output_type": "stream",
     "text": [
      "Test RMSE: 0.9051\n"
     ]
    },
    {
     "data": {
      "text/plain": [
       "np.float32(0.9051454)"
      ]
     },
     "execution_count": 25,
     "metadata": {},
     "output_type": "execute_result"
    }
   ],
   "source": [
    "evaluate_centered_model(model=full_model, test_loader=test_loader, device=device)\n"
   ]
  }
 ],
 "metadata": {
  "kernelspec": {
   "display_name": ".venv",
   "language": "python",
   "name": "python3"
  },
  "language_info": {
   "codemirror_mode": {
    "name": "ipython",
    "version": 3
   },
   "file_extension": ".py",
   "mimetype": "text/x-python",
   "name": "python",
   "nbconvert_exporter": "python",
   "pygments_lexer": "ipython3",
   "version": "3.12.3"
  }
 },
 "nbformat": 4,
 "nbformat_minor": 2
}
